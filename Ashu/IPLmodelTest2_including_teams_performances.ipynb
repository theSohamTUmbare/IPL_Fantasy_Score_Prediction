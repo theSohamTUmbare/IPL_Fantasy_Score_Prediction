{
 "cells": [
  {
   "cell_type": "code",
   "execution_count": 41,
   "id": "a10876ac",
   "metadata": {},
   "outputs": [],
   "source": [
    "import os\n",
    "import math\n",
    "import torch\n",
    "import numpy as np\n",
    "import pandas as pd\n",
    "import matplotlib.pyplot as plt\n",
    "import seaborn as sns\n",
    "from sklearn.model_selection import train_test_split\n",
    "from sklearn.preprocessing import StandardScaler\n",
    "import torch.nn as nn\n",
    "from typing import List\n",
    "from torch import Tensor\n",
    "from torchvision import transforms\n",
    "from torch.utils.data import Dataset, DataLoader\n",
    "import torch\n",
    "import torch.nn as nn\n",
    "import torch.nn.functional as F\n",
    "from torch import Tensor\n"
   ]
  },
  {
   "cell_type": "code",
   "execution_count": 42,
   "id": "9b8abce0",
   "metadata": {},
   "outputs": [],
   "source": [
    "from dataclasses import dataclass, field\n",
    "\n",
    "@dataclass\n",
    "class Config:\n",
    "    PLAYERS_SIZE: int = 0\n",
    "    CONTEXT_LEN: int = 16  ## predict the 21st match by the 20\n",
    "    PERFORMANCE_INPUT_DIM = 23\n",
    "    PERFORMANCE_EMBD_DIM: int = 128\n",
    "    \n",
    "    PLAYER_INPUT_DIM: int = 25   ## univpalyer\n",
    "    MATCH_INPUT_EMBD: int = 14   ## match_info\n",
    "    NUM_EPOCHS: int = 100\n",
    "    LEARNING_RATE: float = 1e-3\n",
    "    BATCH_SIZE: int = 32\n",
    "    DEVICE: str = field(default_factory=lambda: \"cuda\" if torch.cuda.is_available() else \"cpu\")\n",
    "    # MODEL_SAVE_PATH: str = \"/kaggle/working\"\n",
    "    # BASE_DIR: str = '/kaggle/input/flickr8k/'\n",
    "    # CROSSATT_NUM_HEADS: int = 8\n",
    "    CLS_INIT_STD: float = 0.02    ## <CLS> token initialized with std 0.02 from the mean=0\n",
    "    TEST_DATASET_SIZE: int = 180\n",
    "    IDLE_DEVICE: str = 'cpu'\n",
    "    ACCUMULATION_STEPS = 4\n"
   ]
  },
  {
   "cell_type": "code",
   "execution_count": 43,
   "id": "24453239",
   "metadata": {},
   "outputs": [],
   "source": [
    "config = Config()"
   ]
  },
  {
   "cell_type": "markdown",
   "id": "b539a741",
   "metadata": {},
   "source": [
    "## Defination of **Losses**"
   ]
  },
  {
   "cell_type": "code",
   "execution_count": null,
   "id": "8eaf47a1",
   "metadata": {},
   "outputs": [],
   "source": []
  },
  {
   "cell_type": "markdown",
   "id": "c4cf5dc7",
   "metadata": {},
   "source": [
    "# Data"
   ]
  },
  {
   "cell_type": "code",
   "execution_count": 44,
   "id": "3643010c",
   "metadata": {},
   "outputs": [],
   "source": [
    "import os\n",
    "import numpy as np\n",
    "import pandas as pd\n",
    "from torch.utils.data import Dataset\n",
    "\n",
    "class PlayerMatchDataset(Dataset):\n",
    "    \"\"\"\n",
    "    Dataset for autoregressive next-match prediction.\n",
    "\n",
    "    For each sample:\n",
    "      1. Given a player_id, retrieve universal player features from universal_player.csv.\n",
    "         (The 'player_id' and 'cricinfo_id' columns are dropped from the input features.)\n",
    "      2. Retrieve all matches for that player from a directory of player match files\n",
    "         (each file is named \"{player_id}.csv\" and contains the matches for that player,\n",
    "         already sorted by date).\n",
    "         The performance columns include:\n",
    "           batting_position, runs, balls, fours, sixes, strike_rate, overs, total_balls, dots,\n",
    "           maidens, conceded, fours_conceded, sixes_conceded, wickets, LBW, Bowled, noballs,\n",
    "           wides, economy_rate, catches, stumping, direct_hit, indirect_hit, strike_rate_fp,\n",
    "           batting_fp, bowling_fp, fielding_fp, total_fp.\n",
    "         We drop 'match_id' and the fantasy-breakdown columns\n",
    "         ('strike_rate_fp', 'batting_fp', 'bowling_fp', 'fielding_fp', 'total_fp') when forming the input vector.\n",
    "      3. Randomly sample a contiguous window of (context_len + 1) matches for this player.\n",
    "         The first context_len matches serve as input and matches 2 ... context_len+1 yield the target fantasy scores.\n",
    "      4. For each match in the window:\n",
    "         - Load the corresponding match players CSV from the match_players folder (file: '{match_id}.csv').\n",
    "         - Determine the player's team for that match and then separate player_ids into:\n",
    "              team1_ids: those belonging to the same team as the player,\n",
    "              team2_ids: those belonging to the other team.\n",
    "         - Retrieve their universal features from universal_player.csv.\n",
    "         - Retrieve match info from a single match_info CSV (by matching on match_id).\n",
    "      5. Return a dictionary containing:\n",
    "         - 'player_id': the player's id.\n",
    "         - 'univ_features': the player's universal features.\n",
    "         - 'context_matches': a numpy array of performance features for the context matches.\n",
    "         - 'target_scores': a numpy array of target fantasy scores (for matches 2 ... context_len+1).\n",
    "         - 'team1_players': list (per match) of team1 players' universal features.\n",
    "         - 'team2_players': list (per match) of team2 players' universal features.\n",
    "         - 'match_info': list (per match) of match info dictionaries.\n",
    "    \"\"\"\n",
    "\n",
    "    def __init__(self, universal_player_csv, player_matches_dir, match_players_dir, match_info_csv, context_len=25, transform=None):\n",
    "        \"\"\"\n",
    "        Args:\n",
    "            universal_player_csv (str): Path to universal_player.csv.\n",
    "            player_matches_dir (str): Directory containing CSV files for each player's matches (named '{player_id}.csv').\n",
    "            match_players_dir (str): Directory containing match_players CSV files.\n",
    "            match_info_csv (str): Path to the CSV file containing match info for all matches.\n",
    "            context_len (int): Number of context matches to use as input \n",
    "                                (target will be matches 2 ... context_len+1).\n",
    "            transform (callable, optional): Optional transform to be applied on a sample.\n",
    "        \"\"\"\n",
    "        self.context_len = context_len\n",
    "        self.transform = transform\n",
    "\n",
    "        # Load universal player features and set player_id as index.\n",
    "        self.univ_df = pd.read_csv(universal_player_csv)\n",
    "        self.univ_df = self.univ_df.set_index('player_id')\n",
    "        # Drop 'cricinfo_id' as it is redundant.\n",
    "        self.univ_features = self.univ_df.drop(columns=['cricinfo_id'], errors='ignore')\n",
    "\n",
    "        # Instead of a single file for player matches, we assume a directory where each player's\n",
    "        # matches are stored in a file named '{player_id}.csv'. We build a list of valid player_ids\n",
    "        # by checking which player match files exist and ensuring they have at least (context_len+1) rows.\n",
    "        self.player_matches_dir = player_matches_dir\n",
    "        self.player_ids = []\n",
    "        self.player_match_data = {}  # Key: player_id, Value: DataFrame of that player's matches.\n",
    "        for player_id in self.univ_features.index:\n",
    "            match_file = os.path.join(player_matches_dir, f\"{player_id}.csv\")\n",
    "            if os.path.exists(match_file):\n",
    "                df_matches = pd.read_csv(match_file)\n",
    "                # Assume the matches in this file are already sorted by date.\n",
    "                if len(df_matches) >= (self.context_len + 1):\n",
    "                    self.player_ids.append(player_id)\n",
    "                    self.player_match_data[player_id] = df_matches\n",
    "\n",
    "        self.match_players_dir = match_players_dir\n",
    "\n",
    "        # Load the single match_info CSV and set match_id as index for fast lookup.\n",
    "        self.match_info_df = pd.read_csv(match_info_csv)\n",
    "        self.match_info_df = self.match_info_df.set_index('match_id')\n",
    "        # Optionally drop columns not needed.\n",
    "        self.match_info_df = self.match_info_df.drop(columns=['team1', 'team2', 'toss_winner', \"toss_decision\", \"winner\"], errors='ignore')\n",
    "        #Todo don't just drop them we need to infer from them in sense of player's team ->winner 1 else 0\n",
    "\n",
    "    def __len__(self):\n",
    "        return len(self.player_ids)\n",
    "\n",
    "    def __getitem__(self, idx):\n",
    "        \"\"\"\n",
    "        Returns a dictionary with:\n",
    "          - 'player_id': the player's id.\n",
    "          - 'univ_features': universal features for the player.\n",
    "          - 'context_matches': a numpy array of performance features for the context matches.\n",
    "          - 'target_scores': a numpy array of target fantasy scores (for matches 2 ... context_len+1).\n",
    "          - 'team1_players': list (per match) of team1 players' universal features.\n",
    "          - 'team2_players': list (per match) of team2 players' universal features.\n",
    "          - 'match_info': list (per match) of match info dictionaries.\n",
    "        \"\"\"\n",
    "        #ToDO not just total_fantasy score, rather a weighted sum of error for batting_bowling fp's, fielding_fp with lesser weightage to the overall total_fp  \n",
    "        # Select the player.\n",
    "        player_id = self.player_ids[idx]\n",
    "        # Retrieve the player's universal features as a numpy array.\n",
    "        player_univ = self.univ_features.loc[player_id].values.astype(float)\n",
    "        \n",
    "        # Load this player's matches DataFrame from the pre-loaded dictionary.\n",
    "        df_matches = self.player_match_data[player_id]\n",
    "        total_matches = len(df_matches)\n",
    "        # Randomly select a contiguous window of (context_len + 1) matches.\n",
    "        start_idx = np.random.randint(1, total_matches - self.context_len+1)\n",
    "        window_df = df_matches.iloc[start_idx-1 : start_idx + self.context_len]\n",
    "\n",
    "        # For input, drop the unused columns.\n",
    "        exclude_cols = ['teamname', 'match_id',\n",
    "                        'strike_rate_fp', 'batting_fp', 'bowling_fp', 'fielding_fp', 'total_fp']\n",
    "        # Extract target fantasy scores (from column 'total_fp') for matches 2 ... context_len+1.\n",
    "        target_scores = window_df.iloc[1:self.context_len+1][['batting_fp', 'bowling_fp', 'fielding_fp',]].values.astype(float)\n",
    "        #Todo account for all sub_fp's (stage -2)\n",
    "        # Extract performance features for input matches.\n",
    "        context_matches = window_df.iloc[:self.context_len].drop(columns=exclude_cols, errors='ignore')\n",
    "\n",
    "        # For each match in the window, retrieve team players and match info.\n",
    "        # team1_players_list = [] \n",
    "        team2_players_list = []\n",
    "        match_info_list = []\n",
    "        for _, match in window_df.iterrows():\n",
    "            match_id = match['match_id']\n",
    "            # Load match players file (expects a file named \"{match_id}.csv\").\n",
    "            match_players_file = os.path.join(self.match_players_dir, f\"{int(match_id)}.csv\")\n",
    "            match_players_df = pd.read_csv(match_players_file)\n",
    "            \n",
    "            # Determine the team of the sample's player in this match.\n",
    "            player_team_series = match_players_df[\n",
    "                match_players_df['player_id'] == player_id]['Team']\n",
    "            #? rather we can refer it from window_df, there in the excluded_cols same as match['team_name']\n",
    "            if not player_team_series.empty:\n",
    "                player_team = player_team_series.iloc[0]\n",
    "            else:\n",
    "                player_team = match_players_df.iloc[0]['Team'] #?why's this, though it won't execute\n",
    "            \n",
    "            # Split player_ids into two groups based on the player's team.\n",
    "            # team1_ids = match_players_df[\n",
    "            #     match_players_df['Team'] == player_team]['player_id'].tolist()\n",
    "            # #! we just need the team2 player_ids (we are omitting the intra-team interactions...)\n",
    "            team2_ids = match_players_df[\n",
    "                match_players_df['Team'] != player_team]['player_id'].tolist()\n",
    "\n",
    "            # Retrieve universal features for these players.\n",
    "            # team1_features = self.univ_features.reindex(team1_ids).dropna().values.astype(float)\n",
    "            team2_features = self.univ_features.reindex(team2_ids).dropna().values.astype(float)\n",
    "            # team1_players_list.append(team1_features)\n",
    "            team2_players_list.append(team2_features)\n",
    "            \n",
    "            # Retrieve match info using match_id from the single match_info DataFrame.\n",
    "            if match_id in self.match_info_df.index:\n",
    "                match_info_dict = self.match_info_df.loc[match_id].to_dict()\n",
    "            else:\n",
    "                match_info_dict = { }\n",
    "            match_info_list.append(match_info_dict)\n",
    "            #? wht's this \n",
    "\n",
    "        # --- START OF CHANGES: convert to properly shaped torch.Tensors ---\n",
    "        import torch\n",
    "\n",
    "        # universal features\n",
    "        univ_features = torch.tensor(player_univ, dtype=torch.float32)  # (feat_dim,)\n",
    "\n",
    "        # context matches\n",
    "        context_matches = torch.tensor(context_matches.values.astype(float),\n",
    "                                       dtype=torch.float32)  # (context_len, perf_dim)\n",
    "\n",
    "        # target scores\n",
    "        target_scores = torch.tensor(target_scores, dtype=torch.float32)  # (context_len,)\n",
    "\n",
    "        # team1 players: pad to max players across the window, then stack\n",
    "        # max1 = max(arr.shape[0] for arr in team1_players_list)\n",
    "        # feat_dim = team1_players_list[0].shape[1] if max1>0 else 0\n",
    "        # padded1 = [\n",
    "        #     np.pad(arr, ((0, max1 - arr.shape[0]), (0, 0)), mode='constant')\n",
    "        #     for arr in team1_players_list\n",
    "        # ]\n",
    "        # team1_players = torch.tensor(np.stack(padded1), dtype=torch.float32)\n",
    "        # # shape: (context_len+1, max1, feat_dim)\n",
    "\n",
    "        # team2 players: same\n",
    "        max2 = max(arr.shape[0] for arr in team2_players_list)\n",
    "        feat_dim2 = team2_players_list[0].shape[1] if max2>0 else 0\n",
    "        padded2 = [\n",
    "            np.pad(arr, ((0, max2 - arr.shape[0]), (0, 0)), mode='constant')\n",
    "            for arr in team2_players_list\n",
    "        ]\n",
    "        team2_players = torch.tensor(np.stack(padded2), dtype=torch.float32)\n",
    "        # shape: (context_len+1, max2, feat_dim2)\n",
    "        #? wht's this\n",
    "\n",
    "        # match_info: convert list of dicts to array in fixed key order\n",
    "        keys = list(self.match_info_df.columns)\n",
    "        info_arr = np.stack([[d.get(k, 0.0) for k in keys] for d in match_info_list])\n",
    "        match_info = torch.tensor(info_arr, dtype=torch.float32)\n",
    "        # shape: (context_len+1, len(keys))\n",
    "\n",
    "        # --- END OF CHANGES ---\n",
    "\n",
    "        sample = {\n",
    "            'player_id': player_id,\n",
    "            'univ_features': univ_features,\n",
    "            'context_matches': context_matches,\n",
    "            'target_scores': target_scores,\n",
    "            # 'team1_players': team1_players[:, :11, :],\n",
    "            'team2_players': team2_players[:, :11, :],\n",
    "            'match_info': match_info\n",
    "        }\n",
    "        \n",
    "        if self.transform:\n",
    "            sample = self.transform(sample)\n",
    "        return sample\n"
   ]
  },
  {
   "cell_type": "code",
   "execution_count": 45,
   "id": "c409bc7a",
   "metadata": {},
   "outputs": [
    {
     "data": {
      "text/plain": [
       "2354"
      ]
     },
     "execution_count": 45,
     "metadata": {},
     "output_type": "execute_result"
    }
   ],
   "source": [
    "import os\n",
    "from torch.utils.data import DataLoader\n",
    "\n",
    "# Define file paths (update these paths as needed for your folder structure)\n",
    "universal_player_csv = r'C:\\Users\\kumar\\IPL_Fantasy_Score_Prediction\\Ashu\\Test_1\\cleaned_universal_player.csv'\n",
    "player_matches_dir = r'C:\\Users\\kumar\\IPL_Fantasy_Score_Prediction\\Ashu\\Test_1\\Processed_Player_records'  # Contains files named like {player_id}.csv (each containing that player's matches)\n",
    "match_players_dir = r'C:\\Users\\kumar\\IPL_Fantasy_Score_Prediction\\Ashu\\Test_1\\processed_GlobalMatchrecords'    # Contains files like {match_id}.csv\n",
    "match_info_csv = r'C:\\Users\\kumar\\IPL_Fantasy_Score_Prediction\\Ashu\\Test_1\\cleaned_matchinfo_without_venue_with_updated_match_number.csv'               # Single CSV containing all match info\n",
    "\n",
    "# Define the context length (number of matches to use as context)\n",
    "# For example, if config.CONTEXT_LEN is defined in your config module:\n",
    "# config.CONTEXT_LEN = 5\n",
    "\n",
    "# Initialize the dataset\n",
    "dataset = PlayerMatchDataset(\n",
    "    universal_player_csv=universal_player_csv,\n",
    "    player_matches_dir=player_matches_dir,  # This parameter may be ignored if you use the directory version\n",
    "    match_players_dir=match_players_dir,\n",
    "    match_info_csv=match_info_csv,\n",
    "    context_len=config.CONTEXT_LEN\n",
    ")\n",
    "\n",
    "# def get_shape(lst):\n",
    "#     shape = []\n",
    "#     while isinstance(lst, list):\n",
    "#         shape.append(len(lst))\n",
    "#         if len(lst) == 0:\n",
    "#             break\n",
    "#         lst = lst[0]\n",
    "#     return tuple(shape)\n",
    "\n",
    "\n",
    "\n",
    "# Initialize the DataLoader\n",
    "# dataloader = DataLoader(dataset, batch_size=config.BATCH_SIZE, shuffle=True, num_workers=0)\n",
    "len(dataset)\n",
    "\n"
   ]
  },
  {
   "cell_type": "code",
   "execution_count": 46,
   "id": "92299cff",
   "metadata": {},
   "outputs": [
    {
     "name": "stdout",
     "output_type": "stream",
     "text": [
      "Player IDs: ['7671203a', 'eee46f77', '0c7f11be', '10b79140', 'e855546b', '4531f249', 'aaa1b522', 'dadbdb68', 'd18d3a0f', 'bf2d865c', '7081848a', '60938c83', '84dc72db', '51e1ed69', '7ba6ef29', '2ae01eb0', '2a9eee66', '34dd3fd9', '0d0f0385', 'e6e9b619', '39ed0d2f', '1fc6ef83', 'bf6e03ea', '1a628a92', 'cfe70281', 'fb0abc20', '0b581ed6', '725529bc', 'f2c936d7', 'ce820073', '2494ff9e', 'ae091d39']\n",
      "Universal features shape: torch.Size([32, 25])\n",
      "Context matches shape: torch.Size([32, 16, 23])\n",
      "Target scores shape: torch.Size([32, 16, 3])\n",
      "Number of matches in team2_players (per sample): torch.Size([32, 17, 11, 25])\n",
      "Number of matches in match_info (per sample): torch.Size([32, 17, 14])\n"
     ]
    }
   ],
   "source": [
    "dataloader = DataLoader(dataset, batch_size=config.BATCH_SIZE, shuffle=True, num_workers=0)\n",
    "for batch in dataloader:\n",
    "    print(\"Player IDs:\", batch['player_id'])  # list of player_ids (length = batch_size)\n",
    "    \n",
    "    print(\"Universal features shape:\", (batch['univ_features']).shape)  # e.g., (batch_size, num_features)\n",
    "    \n",
    "    print(\"Context matches shape:\", batch['context_matches'].shape)  # e.g., (batch_size, context_len, performance_feature_dim)\n",
    "    \n",
    "    print(\"Target scores shape:\", batch['target_scores'].shape)      # e.g., (batch_size, context_len)\n",
    "    \n",
    "    # The following are lists of length (context_len+1); each element is a numpy array.\n",
    "    # team1_players_tensor = list_of_tensors_to_3d(batch['team1_players'])\n",
    "    # team1_players_tensor = team1_players_tensor.squeeze(2)\n",
    "    # print(\"Number of matches in team1_players (per sample):\", batch['team1_players'].shape)\n",
    "    \n",
    "    # team2_players_tensor = list_of_tensors_to_3d(batch['team2_players'])\n",
    "    # team2_players_tensor = team2_players_tensor.squeeze(2)\n",
    "    print(\"Number of matches in team2_players (per sample):\", batch['team2_players'].shape)\n",
    "    \n",
    "    # match_info_tensor = list_of_dicts_to_tensor(batch['match_info'])\n",
    "    print(\"Number of matches in match_info (per sample):\", (batch['match_info']).shape)\n",
    "    break"
   ]
  },
  {
   "cell_type": "code",
   "execution_count": 47,
   "id": "f17b89fb",
   "metadata": {},
   "outputs": [],
   "source": [
    "def list_of_tensors_to_3d(tensor_list):\n",
    "    \"\"\"\n",
    "    Converts a list of tensors into a 3D tensor with shape:\n",
    "    (1, number_of_tensors, *inner_tensor_shape)\n",
    "    \n",
    "    Args:\n",
    "        tensor_list (list of torch.Tensor): List of tensors with identical shapes.\n",
    "        \n",
    "    Returns:\n",
    "        torch.Tensor: A tensor with the new shape (1, len(tensor_list), inner dims...).\n",
    "    \"\"\"\n",
    "    # First stack the tensors along dimension 0: shape becomes (number_of_tensors, inner dims...)\n",
    "    stacked = torch.stack(tensor_list, dim=0)\n",
    "    # Add a leading dimension to obtain the final shape (1, number_of_tensors, inner dims...)\n",
    "    return stacked.unsqueeze(0)\n",
    "\n",
    "\n",
    "def list_of_dicts_to_tensor(data, key_order=None):\n",
    "    \"\"\"\n",
    "    Convert a list of dictionaries (each with tensor or numeric values) \n",
    "    into a 3D tensor of shape (1, number_of_dicts, number_of_keys).\n",
    "\n",
    "    Args:\n",
    "        data (list): List of dictionaries where each dictionary contains the same keys.\n",
    "        key_order (list, optional): Specific order of keys to extract from each dictionary.\n",
    "                                    If None, keys from the first dictionary are used.\n",
    "\n",
    "    Returns:\n",
    "        torch.Tensor: A 3D tensor with shape (1, len(data), len(key_order)).\n",
    "    \"\"\"\n",
    "    if not data:\n",
    "        raise ValueError(\"The input data list is empty.\")\n",
    "    \n",
    "    # Use keys from the first dictionary if no order is specified.\n",
    "    if key_order is None:\n",
    "        key_order = list(data[0].keys())\n",
    "    \n",
    "    values_list = []\n",
    "    for d in data:\n",
    "        # Extract values in the specified order. Convert tensor values to scalar if necessary.\n",
    "        values = []\n",
    "        for key in key_order:\n",
    "            value = d[key]\n",
    "            if isinstance(value, torch.Tensor):\n",
    "                # Assuming tensor is of shape (1,)\n",
    "                values.append(value.item())\n",
    "            else:\n",
    "                values.append(value)\n",
    "        values_list.append(values)\n",
    "    \n",
    "    # Convert the list of lists to a 2D tensor.\n",
    "    tensor_2d = torch.tensor(values_list)\n",
    "    # Add a new dimension at the beginning to make it 3D.\n",
    "    tensor_3d = tensor_2d.unsqueeze(0)\n",
    "    return tensor_3d"
   ]
  },
  {
   "cell_type": "markdown",
   "id": "37731161",
   "metadata": {},
   "source": [
    "## MODEL **Architechure**"
   ]
  },
  {
   "cell_type": "code",
   "execution_count": 48,
   "id": "d9a370ea",
   "metadata": {},
   "outputs": [],
   "source": [
    "class PlayerEmbedding(nn.Module):\n",
    "  \"\"\" HEre we are doing the Proj of the raw Player embedding into the PERFORMANCE_EMBD_DIM \"\"\"\n",
    "  def __init__(self, in_channels=config.PLAYER_INPUT_DIM, out_channels=config.PERFORMANCE_EMBD_DIM):\n",
    "    super().__init__()\n",
    "    self.proj = nn.Linear(in_channels, out_channels)\n",
    "\n",
    "  def forward(self, x):\n",
    "    # print(f\"In Player Embd  {x.shape}\")\n",
    "    # x: (B, PLAYER_INPUT_DIM) or flattened (B*T, PLAYER_INPUT_DIM)\n",
    "    return self.proj(x)   ## ( B/B*T, PERFORMANCE_EMBD)"
   ]
  },
  {
   "cell_type": "code",
   "execution_count": 49,
   "id": "39d43842",
   "metadata": {},
   "outputs": [],
   "source": [
    "# class CrossAttention(nn.Module):\n",
    "#     def __init__(self, d_embed=config.PERFORMANCE_EMBD_DIM, d_cross=config.PERFORMANCE_EMBD_DIM, n_heads=8, in_proj_bias=True, out_proj_bias=True):\n",
    "#         super().__init__()\n",
    "#         # Initialize linear layers for query, key, and value projections.\n",
    "#         # q_proj: projects the query input with shape (batch_size, seq_length_q=1, d_embed)\n",
    "#         self.q_proj   = nn.Linear(d_embed, d_embed, bias=in_proj_bias)\n",
    "#         # k_proj: projects the key input with shape (batch_size, seq_length_kv=11, d_cross)\n",
    "#         self.k_proj   = nn.Linear(d_cross, d_embed, bias=in_proj_bias)\n",
    "#         # v_proj: projects the value input with shape (batch_size, seq_length_kv=11, d_cross)\n",
    "#         self.v_proj   = nn.Linear(d_cross, d_embed, bias=in_proj_bias)\n",
    "#         # out_proj: projects the concatenated multi-head outputs back to the original embedding dimension.\n",
    "#         self.out_proj = nn.Linear(d_embed, d_embed, bias=out_proj_bias)\n",
    "#         self.n_heads = n_heads                     # Number of attention heads.\n",
    "#         self.d_head = d_embed // n_heads           # Dimensionality per head.\n",
    "\n",
    "#     def forward(self, x, y):\n",
    "#         \"\"\"\n",
    "#         Compute cross-attention between two sequences.\n",
    "\n",
    "#         Parameters:\n",
    "#             x (Tensor): Query input tensor of shape (batch_size, seq_length_q=1, d_embed)\n",
    "#             y (Tensor): Key/Value input tensor of shape (batch_size, seq_length_kv=11, d_cross)\n",
    "\n",
    "#         Returns:\n",
    "#             Tensor: Output tensor after applying cross-attention, with shape (batch_size, seq_length_q=1, d_embed)\n",
    "#         \"\"\"\n",
    "#         # Save original input shape.\n",
    "#         input_shape = x.shape  # (batch_size, seq_length_q=1, d_embed)\n",
    "#         batch_size, sequence_length, d_embed = input_shape\n",
    "\n",
    "#         # Define intermediate shape for splitting into multiple heads.\n",
    "#         # New shape: (batch_size, seq_length, n_heads, d_head)\n",
    "#         interim_shape = (batch_size, -1, self.n_heads, self.d_head)\n",
    "\n",
    "#         # Apply linear projections:\n",
    "#         # q: project queries from x.\n",
    "#         q = self.q_proj(x)  # (batch_size, seq_length_q=1, d_embed)\n",
    "#         # k: project keys from y.\n",
    "#         k = self.k_proj(y)  # (batch_size, seq_length_kv=11, d_embed)\n",
    "#         # v: project values from y.\n",
    "#         v = self.v_proj(y)  # (batch_size, seq_length_kv=11, d_embed)\n",
    "\n",
    "#         # Reshape projections to separate attention heads.\n",
    "#         # Transform shape to (batch_size, n_heads, seq_length, d_head)\n",
    "#         q = q.view(interim_shape).transpose(1, 2)\n",
    "#         k = k.view(interim_shape).transpose(1, 2)\n",
    "#         v = v.view(interim_shape).transpose(1, 2)\n",
    "\n",
    "#         # Compute attention scores using scaled dot-product:\n",
    "#         # Multiply queries with transposed keys.\n",
    "#         # Resulting shape: (batch_size, n_heads, seq_length_q=1, seq_length_kv=11)\n",
    "#         weight = q @ k.transpose(-1, -2)\n",
    "\n",
    "#         # Scale the scores by the square root of head dimension to stabilize gradients.\n",
    "#         weight /= math.sqrt(self.d_head)\n",
    "\n",
    "#         # Normalize the attention weights using softmax along the key dimension.\n",
    "#         weight = F.softmax(weight, dim=-1)\n",
    "\n",
    "#         # Compute the weighted sum over the values.\n",
    "#         # Output shape: (batch_size, n_heads, seq_length_q=1, d_head)\n",
    "#         output = weight @ v\n",
    "\n",
    "#         # Reorder dimensions to combine multiple heads:\n",
    "#         # Transpose back to (batch_size, seq_length_q=1, n_heads, d_head) and make contiguous.\n",
    "#         output = output.transpose(1, 2).contiguous()\n",
    "\n",
    "#         # Merge the multi-head outputs to recover original embedding dimension.\n",
    "#         # Final shape: (batch_size, seq_length_q=1, d_embed)\n",
    "#         output = output.view(input_shape)\n",
    "\n",
    "#         # Apply the final output projection.\n",
    "#         output = self.out_proj(output)\n",
    "\n",
    "#         return output  # Return the final cross-attention output.\n",
    "\n",
    "# given this cross attention module, i want to apply to calculate the cross attention from team2 to team1 players embeddings...\n",
    "# #! handle cross attention (also should it be applied using team2 and current player)\n",
    "# class MatchEmbedding(nn.Module):\n",
    "#     \"\"\"\n",
    "#     Computes a match-level embedding from team and match information.\n",
    "#     performing cross attention from team_players performance -> current palyer performance \n",
    "#     Expected input shapes (for T matches):\n",
    "#       team1_players: (B, T, num_team1, PLAYER_INPUT_DIM) #!TODO we are passing it\n",
    "#       team2_players: (B, T, num_team2, PLAYER_INPUT_DIM)\n",
    "#       #? TODO implement cross attention (including player X team-2 performance )\n",
    "      \n",
    "#       match_info: (B, T, match_info_dim)\n",
    "#     Output:\n",
    "#       (B, T, PERFORMANCE_EMBD_DIM)\n",
    "#     \"\"\"\n",
    "#     def __init__(self, player_embedding_module, in_channels=(2*config.PERFORMANCE_EMBD_DIM + config.MATCH_INPUT_EMBD), out_channels=config.PERFORMANCE_EMBD_DIM):\n",
    "#         super().__init__()\n",
    "#         self.player = player_embedding_module\n",
    "#         self.proj = nn.Linear(in_channels, out_channels)\n",
    "\n",
    "#     def forward(self, team1_players, team2_players, match_info):\n",
    "#         \"\"\"\n",
    "#           1. Get player embeddings using self.player.\n",
    "#           2. Sum (or pool) embeddings for each team.\n",
    "#           3. Concatenate team representations with match_info.\n",
    "#           4. Project the concatenated vector to obtain the final match embedding.\n",
    "#         \"\"\"\n",
    "#         B, T, num_team1, _ = team1_players.shape\n",
    "#         # print(f\"In match embd {team1_players.shape} & {match_info.shape}, B {B}, T, {T}, nums_team1 {num_team1}\")\n",
    "#         # Compute player embeddings\n",
    "#         team1_flat = team1_players.reshape(B * T, num_team1, -1)  # (B*T, num_team1, PLAYER_INPUT_DIM)\n",
    "#         team1_embeds = self.player(team1_flat)  # (B*T, num_team1, PERFORMANCE_EMBD_DIM)\n",
    "#         team1_sum = team1_embeds.sum(dim=1)  # (B*T, PERFORMANCE_EMBD_DIM)\n",
    "#         team1_sum = team1_sum.reshape(B, T, -1)  # (B, T, PERFORMANCE_EMBD_DIM)\n",
    "\n",
    "#         B, T, num_team2, _ = team2_players.shape\n",
    "#         team2_flat = team2_players.reshape(B * T, num_team2, -1)\n",
    "#         team2_embeds = self.player(team2_flat)  # (B*T, num_team2, PERFORMANCE_EMBD_DIM)\n",
    "#         team2_sum = team2_embeds.sum(dim=1)  # (B*T, PERFORMANCE_EMBD_DIM)\n",
    "#         team2_sum = team2_sum.reshape(B, T, -1)  # (B, T, PERFORMANCE_EMBD_DIM)\n",
    "\n",
    "#         # Concatenate team summaries with match-level info along last dimension.\n",
    "#         # match_info: (B, T, match_info_dim)\n",
    "#         fused = torch.cat([team1_sum, team2_sum, match_info], dim=-1)  # (B, T, 2*PERFORMANCE_EMBD_DIM + match_info_dim)\n",
    "#         match_embedding = self.proj(fused)  # (B, T, PERFORMANCE_EMBD_DIM)\n",
    "\n",
    "#         return match_embedding \n",
    "# in this  MatchEmbedding module instead of duing a normal addition over all player in each team and creating team1_sum,team2_sum and then just concatenating them with match_info to create fused embedding of shape  (B, T, 2*PERFORMANCE_EMBD_DIM + match_info_dim)   \n",
    "\n",
    "\n"
   ]
  },
  {
   "cell_type": "code",
   "execution_count": 50,
   "id": "4cdcf795",
   "metadata": {},
   "outputs": [],
   "source": [
    "class CrossAttention(nn.Module):\n",
    "    def __init__(self, d_embed=config.PERFORMANCE_EMBD_DIM, d_cross=config.PERFORMANCE_EMBD_DIM, n_heads=8, in_proj_bias=True, out_proj_bias=True):\n",
    "        super().__init__()\n",
    "        # Initialize linear layers for query, key, and value projections.\n",
    "        # q_proj: projects the query input with shape (batch_size, seq_length_q=1, d_embed)\n",
    "        self.q_proj   = nn.Linear(d_embed, d_embed, bias=in_proj_bias)\n",
    "        # k_proj: projects the key input with shape (batch_size, seq_length_kv=11, d_cross)\n",
    "        self.k_proj   = nn.Linear(d_cross, d_embed, bias=in_proj_bias)\n",
    "        # v_proj: projects the value input with shape (batch_size, seq_length_kv=11, d_cross)\n",
    "        self.v_proj   = nn.Linear(d_cross, d_embed, bias=in_proj_bias)\n",
    "        # out_proj: projects the concatenated multi-head outputs back to the original embedding dimension.\n",
    "        self.out_proj = nn.Linear(d_embed, d_embed, bias=out_proj_bias)\n",
    "        self.n_heads = n_heads                     # Number of attention heads.\n",
    "        self.d_head = d_embed // n_heads           # Dimensionality per head.\n",
    "\n",
    "    def forward(self, x, y):\n",
    "        \"\"\"\n",
    "        Compute cross-attention between two sequences.\n",
    "\n",
    "        Parameters:\n",
    "            x (Tensor): Query input tensor of shape (batch_size, seq_length_q=1, d_embed)\n",
    "            y (Tensor): Key/Value input tensor of shape (batch_size, seq_length_kv=11, d_cross)\n",
    "\n",
    "        Returns:\n",
    "            Tensor: Output tensor after applying cross-attention, with shape (batch_size, seq_length_q=1, d_embed)\n",
    "        \"\"\"\n",
    "        # Save original input shape.\n",
    "        input_shape = x.shape  # (batch_size, seq_length_q=1, d_embed)\n",
    "        batch_size, sequence_length, d_embed = input_shape\n",
    "\n",
    "        # Define intermediate shape for splitting into multiple heads.\n",
    "        # New shape: (batch_size, seq_length, n_heads, d_head)\n",
    "        interim_shape = (batch_size, -1, self.n_heads, self.d_head)\n",
    "\n",
    "        # Apply linear projections:\n",
    "        # q: project queries from x.\n",
    "        q = self.q_proj(x)  # (batch_size, seq_length_q=1, d_embed)\n",
    "        # k: project keys from y.\n",
    "        k = self.k_proj(y)  # (batch_size, seq_length_kv=11, d_embed)\n",
    "        # v: project values from y.\n",
    "        v = self.v_proj(y)  # (batch_size, seq_length_kv=11, d_embed)\n",
    "\n",
    "        # Reshape projections to separate attention heads.\n",
    "        # Transform shape to (batch_size, n_heads, seq_length, d_head)\n",
    "        q = q.view(interim_shape).transpose(1, 2)\n",
    "        k = k.view(interim_shape).transpose(1, 2)\n",
    "        v = v.view(interim_shape).transpose(1, 2)\n",
    "\n",
    "        # Compute attention scores using scaled dot-product:\n",
    "        # Multiply queries with transposed keys.\n",
    "        # Resulting shape: (batch_size, n_heads, seq_length_q=1, seq_length_kv=11)\n",
    "        weight = q @ k.transpose(-1, -2)\n",
    "\n",
    "        # Scale the scores by the square root of head dimension to stabilize gradients.\n",
    "        weight /= math.sqrt(self.d_head)\n",
    "\n",
    "        # Normalize the attention weights using softmax along the key dimension.\n",
    "        weight = F.softmax(weight, dim=-1)\n",
    "\n",
    "        # Compute the weighted sum over the values.\n",
    "        # Output shape: (batch_size, n_heads, seq_length_q=1, d_head)\n",
    "        output = weight @ v\n",
    "\n",
    "        # Reorder dimensions to combine multiple heads:\n",
    "        # Transpose back to (batch_size, seq_length_q=1, n_heads, d_head) and make contiguous.\n",
    "        output = output.transpose(1, 2).contiguous()\n",
    "\n",
    "        # Merge the multi-head outputs to recover original embedding dimension.\n",
    "        # Final shape: (batch_size, seq_length_q=1, d_embed)\n",
    "        output = output.view(input_shape)\n",
    "\n",
    "        # Apply the final output projection.\n",
    "        output = self.out_proj(output)\n",
    "\n",
    "        return output  # Return the final cross-attention output.\n"
   ]
  },
  {
   "cell_type": "code",
   "execution_count": 51,
   "id": "36589dd1",
   "metadata": {},
   "outputs": [],
   "source": [
    "class ApplyCrossAttention(nn.Module):\n",
    "    \"\"\"\n",
    "        Computes a match-level embedding by refining a player's performance embedding \n",
    "        with cross-attention over the opposing team (team2) players' performance embeddings \n",
    "        and then fusing with match-level information. # we'll do this step later seperately\n",
    "    \"\"\"\n",
    "    def __init__(self,cross_attention_module : CrossAttention,\n",
    "                 in_channels = config.PERFORMANCE_EMBD_DIM + config.MATCH_INPUT_EMBD,\n",
    "                 out_channels = config.PERFORMANCE_EMBD_DIM):\n",
    "        super(ApplyCrossAttention,self).__init__()\n",
    "        self.cross_attention = cross_attention_module\n",
    "        self.proj = nn.Linear(in_channels,out_channels)\n",
    "    def forward(self,player,team2_players,match_info):\n",
    "        \"\"\"\n",
    "        expected inputed are already passed through the playerEmbedding module\n",
    "        Args:\n",
    "            player (Tensor): shape (B,T, PERFORMANCE_EMBD_DIM) #we have to copy it for (B,T,PLAYER_INPUT_DIM) already provided\n",
    "            team2_players (Tensor): shape (B,T,num_team2,PERFORMANCE_EMBD_DIM)\n",
    "            match_info (Tensor): shape (B,T,match_info_dim)\n",
    "            \n",
    "        Returns:\n",
    "            Tensor: The final match embedding, with shape (B, T, PERFORMANCE_EMBD_DIM)\n",
    "        \"\"\"\n",
    "        # print(player.shape)\n",
    "        # print(team2_players.shape)\n",
    "        assert player.shape[-1] == config.PERFORMANCE_EMBD_DIM, 'dim mismatch!...'\n",
    "        B,T,num_team2,_ = team2_players.shape\n",
    "        assert num_team2 == 11 , 'no of players in team2 should we 11...'\n",
    "        # player_embed = self.player(player.unsqueeze(1))  # -> (B, 1, PERFORMANCE_EMBD_DIM)\n",
    "        # player_embed_expanded = player_embed.expand(-1,T,-1)\n",
    "        player_query = player.reshape(B*T,1,-1) #(B*T,1,PERFORMANCE_EMBD_DIM) \n",
    "        \n",
    "        team2_embeds = team2_players.reshape(B*T,num_team2,-1) # -> (B*T, num_team2, PERFORMANCE_EMBD_DIM) \n",
    "        \n",
    "        #TODO apply cross attention\n",
    "        attened = self.cross_attention(player_query,team2_embeds)\n",
    "        attened = attened.squeeze(1)  # -> (B*T, PERFORMANCE_EMBD_DIM)\n",
    "        attened = attened.view(B,T,-1)\n",
    "        \n",
    "        fused = torch.cat([attened,match_info],dim=-1) # -> (B, T, PERFORMANCE_EMBD_DIM + match_info_dim) T is actually config.CONTEXT_LEN + 1\n",
    "        match_embedding = self.proj(fused)  # -> (B, T, PERFORMANCE_EMBD_DIM)\n",
    "        return match_embedding\n"
   ]
  },
  {
   "cell_type": "code",
   "execution_count": 52,
   "id": "8ca1fc63",
   "metadata": {},
   "outputs": [],
   "source": [
    "class SelfAttention(nn.Module):\n",
    "    def __init__(self, n_heads, d_embed, in_proj_bias=True, out_proj_bias=True):\n",
    "        super().__init__()\n",
    "        # This combines the Wq, Wk and Wv matrices into one matrix\n",
    "        self.in_proj = nn.Linear(d_embed, 3 * d_embed, bias=in_proj_bias)\n",
    "        # This one represents the Wo matrix\n",
    "        self.out_proj = nn.Linear(d_embed, d_embed, bias=out_proj_bias)\n",
    "        self.n_heads = n_heads   ## how many heads u want ?\n",
    "        self.d_head = d_embed // n_heads   ## the original embedding get divided in the all heads equally\n",
    "   \n",
    "\n",
    "    def forward(self, x, causal_mask=False):\n",
    "\n",
    "        # x: # (Batch_Size, Seq_Len, Dim)\n",
    "\n",
    "        # (Batch_Size, Seq_Len, Dim)\n",
    "        input_shape = x.shape\n",
    "\n",
    "        # (Batch_Size, Seq_Len, Dim)\n",
    "        batch_size, sequence_length, d_embed = input_shape\n",
    "\n",
    "        # (Batch_Size, Seq_Len, H, Dim / H)\n",
    "        qkv_shape = (batch_size, sequence_length, self.n_heads, self.d_head)\n",
    "\n",
    "        # (Batch_Size, Seq_Len, Dim) -> (Batch_Size, Seq_Len, Dim * 3) -> 3 tensor of shape (Batch_Size, Seq_Len, Dim)\n",
    "        q, k, v = self.in_proj(x).chunk(3, dim=-1)\n",
    "\n",
    "        # (Batch_Size, Seq_Len, Dim) -> (Batch_Size, Seq_Len, H, Dim / H) -> (Batch_Size, H, Seq_Len, Dim / H)\n",
    "        q = q.view(qkv_shape).transpose(1, 2)\n",
    "        k = k.view(qkv_shape).transpose(1, 2)\n",
    "        v = v.view(qkv_shape).transpose(1, 2)\n",
    "\n",
    "        # (Batch_Size, H, Seq_Len, Dim / H) @ (Batch_Size, H, Dim / H, Seq_Len) -> (Batch_Size, H, Seq_Len, Seq_Len)\n",
    "        weight = q @ k.transpose(-1, -2)\n",
    "\n",
    "        if causal_mask:\n",
    "            # Mask where the upper triangle (above the principal diagonal) is 1\n",
    "            mask = torch.ones_like(weight, dtype=torch.bool).triu(1)\n",
    "            # Fill the upper triangle with -inf\n",
    "            weight.masked_fill_(mask, -torch.inf)\n",
    "\n",
    "        # Divide by d_k (Dim / H).\n",
    "        # (Batch_Size, H, Seq_Len, Seq_Len) -> (Batch_Size, H, Seq_Len, Seq_Len)\n",
    "        weight /= math.sqrt(self.d_head)\n",
    "\n",
    "        # (Batch_Size, H, Seq_Len, Seq_Len) -> (Batch_Size, H, Seq_Len, Seq_Len)\n",
    "        weight = F.softmax(weight, dim=-1)\n",
    "\n",
    "        # (Batch_Size, H, Seq_Len, Seq_Len) @ (Batch_Size, H, Seq_Len, Dim / H) -> (Batch_Size, H, Seq_Len, Dim / H)\n",
    "        output = weight @ v\n",
    "\n",
    "        # (Batch_Size, H, Seq_Len, Dim / H) -> (Batch_Size, Seq_Len, H, Dim / H)\n",
    "        output = output.transpose(1, 2)\n",
    "\n",
    "        # (Batch_Size, Seq_Len, H, Dim / H) -> (Batch_Size, Seq_Len, Dim)\n",
    "        output = output.reshape(input_shape)\n",
    "\n",
    "        # (Batch_Size, Seq_Len, Dim) -> (Batch_Size, Seq_Len, Dim)\n",
    "        output = self.out_proj(output)\n",
    "\n",
    "        # (Batch_Size, Seq_Len, Dim)\n",
    "        return output\n"
   ]
  },
  {
   "cell_type": "code",
   "execution_count": 53,
   "id": "e459ac1e",
   "metadata": {},
   "outputs": [],
   "source": [
    "class a_layer(nn.Module):\n",
    "    \"\"\" A Single Transformer Layer/Block \"\"\"\n",
    "\n",
    "    def __init__(self, n_head: int, n_embd: int):\n",
    "        super().__init__()\n",
    "        # Pre-attention norm\n",
    "        self.layernorm_1 = nn.LayerNorm(n_embd)\n",
    "        # Self attention\n",
    "        self.attention = SelfAttention(n_head, n_embd)\n",
    "        # Pre-FNN norm\n",
    "        self.layernorm_2 = nn.LayerNorm(n_embd)\n",
    "        # Feedforward layer\n",
    "        self.linear_1 = nn.Linear(n_embd, 4 * n_embd)\n",
    "        self.linear_2 = nn.Linear(4 * n_embd, n_embd)\n",
    "\n",
    "    def forward(self, x):\n",
    "        # (Batch_Size, Seq_Len, Dim)\n",
    "        residue = x\n",
    "\n",
    "        ### SELF ATTENTION ###\n",
    "\n",
    "        # (Batch_Size, Seq_Len, Dim) -> (Batch_Size, Seq_Len, Dim)\n",
    "        x = self.layernorm_1(x)\n",
    "\n",
    "        # (Batch_Size, Seq_Len, Dim) -> (Batch_Size, Seq_Len, Dim)\n",
    "        x = self.attention(x, causal_mask=True)\n",
    "\n",
    "        # (Batch_Size, Seq_Len, Dim) + (Batch_Size, Seq_Len, Dim) -> (Batch_Size, Seq_Len, Dim)\n",
    "        x += residue\n",
    "\n",
    "        ### FEEDFORWARD LAYER ###\n",
    "        # Apply a feedforward layer where the hidden dimension is 4 times the embedding dimension.\n",
    "\n",
    "        residue = x\n",
    "        # (Batch_Size, Seq_Len, Dim) -> (Batch_Size, Seq_Len, Dim)\n",
    "        x = self.layernorm_2(x)\n",
    "\n",
    "        # (Batch_Size, Seq_Len, Dim) -> (Batch_Size, Seq_Len, 4 * Dim)\n",
    "        x = self.linear_1(x)\n",
    "\n",
    "        # (Batch_Size, Seq_Len, 4 * Dim) -> (Batch_Size, Seq_Len, 4 * Dim)\n",
    "        x = x * torch.sigmoid(1.702 * x)   # QuickGELU activation function found best for this work\n",
    "\n",
    "        # (Batch_Size, Seq_Len, 4 * Dim) -> (Batch_Size, Seq_Len, Dim)\n",
    "        x = self.linear_2(x)\n",
    "\n",
    "        # (Batch_Size, Seq_Len, Dim) + (Batch_Size, Seq_Len, Dim) -> (Batch_Size, Seq_Len, Dim)\n",
    "        x += residue\n",
    "\n",
    "        return x"
   ]
  },
  {
   "cell_type": "code",
   "execution_count": 54,
   "id": "3a70ec9c",
   "metadata": {},
   "outputs": [],
   "source": [
    "\n",
    "class NextFormPredictor1(nn.Module):\n",
    "    \"\"\"\n",
    "    Predicts a sequence of performance embeddings autoregressively.\n",
    "    applies loss at each time step. \n",
    "    \"\"\"\n",
    "    def __init__(self,player_embedding_module,cross_attention_module,cross_Attention_embedding_module,fantasy_score_prediction_module,custom_loss = None,embedding_dim = config.PERFORMANCE_EMBD_DIM ,num_layers=6, n_head=8):\n",
    "        super(NextFormPredictor1,self).__init__()\n",
    "        self.player_embedding_module = player_embedding_module\n",
    "        self.cross_attention_module = cross_attention_module\n",
    "        self.cross_attended_embedding = cross_Attention_embedding_module(self.cross_attention_module)\n",
    "        \n",
    "        self.performance_proj = nn.Linear(config.PERFORMANCE_INPUT_DIM, embedding_dim)\n",
    "        # self.token_embedding = Performance_embedding_module(\n",
    "        #     self.player_embedding_module,\n",
    "        #     self.cross_attended_embedding\n",
    "        # )\n",
    "        \n",
    "        self.pos_embedding = nn.Embedding(config.CONTEXT_LEN, embedding_dim)\n",
    "        self.layers = nn.ModuleList([a_layer(n_head=n_head, n_embd=embedding_dim) for _ in range(num_layers)])\n",
    "        self.layernorm = nn.LayerNorm(embedding_dim)\n",
    "        self.out_proj = nn.Linear(embedding_dim, embedding_dim)\n",
    "        self.fantasy_score_prediction_module = fantasy_score_prediction_module\n",
    "        # self.custom_loss = custom_loss\n",
    "        self.proj1 = nn.Linear(3*embedding_dim,embedding_dim)\n",
    "        self.proj2 = nn.Linear(2*embedding_dim,embedding_dim)\n",
    "    def forward(self,player_input,player_performance,team_2,match_info,target = None):\n",
    "        \"\"\"_summary_\n",
    "\n",
    "        Args:\n",
    "            player_input (Tensor): shape #(B,PLAYER_INPUT_DIM)\n",
    "            player_performance (Tensor): (B,T + 1,PLAYER_PERPROMANCE_DIM)\n",
    "            team_2 (Tensor): (B,T + 1,team2_size,PLAYER_INPUT_DIM)\n",
    "            match_info (Tensor): (B,T + 1,match_info_dim)\n",
    "            target (Tensor, optional): (B,T,_). Defaults to None.\n",
    "        \"\"\"\n",
    "        B, T, _ = match_info.shape #correct it !...\n",
    "        #! T is equal to config.CONTEXT_LEN + 1 \n",
    "        assert T == config.CONTEXT_LEN + 1, 'context_len + 1 is not 17'\n",
    "        player_embed = self.player_embedding_module(player_input) #(B,PERFORMANCE_EMBD_DIM)\n",
    "        player_embed = player_embed.unsqueeze(1).repeat(1,T,1)   # (B,T, PERFORMANCE_EMBD_DIM)\n",
    "        team_2_embed = self.player_embedding_module(team_2) #(B,T,team_2_size,PLAYER_INPUT_DIM) - > (B,T,team_2_size,PLAYER_EMBD_DIM)\n",
    "        attended_embedding = self.cross_attended_embedding(player_embed,team_2_embed,match_info) # (B,T, PERFORMANCE_EMBD_DIM)\n",
    "        \n",
    "        player_performance_embd = self.performance_proj(player_performance.reshape(B*config.CONTEXT_LEN,-1)) # (B*T, PERFORMANCE_INPUT_DIM) => (B*T, PERFORMANCE_EMBD_DIM)\n",
    "        player_performance_embd = player_performance_embd.reshape(B,Config.CONTEXT_LEN,-1) #(B,T,PERFORMANCE_EMBD_DIM) \n",
    "        fused = torch.cat([player_embed[:,:config.CONTEXT_LEN,:],attended_embedding[:,:config.CONTEXT_LEN,:],player_performance_embd[:,:config.CONTEXT_LEN,:]],dim=-1)\n",
    "        # print(fused.shape)\n",
    "        x = self.proj1(fused)\n",
    "        pos_ids = torch.arange(config.CONTEXT_LEN, device=config.DEVICE).unsqueeze(0).expand(B,config.CONTEXT_LEN)  # (B, T)\n",
    "        x = x + self.pos_embedding(pos_ids)\n",
    "        for layer in self.layers:\n",
    "            x = layer(x)\n",
    "        x = self.layernorm(x)\n",
    "        perf_emb = self.out_proj(x)  # (B, T, embedding_dim)\n",
    "        # print(\"perf_emb: shape\")\n",
    "        # print(perf_emb.shape)\n",
    "        pred_fantasy = None\n",
    "        # loss = None\n",
    "        if target is not None:\n",
    "            pred_pref = perf_emb[:,:config.CONTEXT_LEN,:]  # (B, config.Context_len, embedding_dim)\n",
    "            Bp,Tp,D = pred_pref.shape #!Tp ->config.CONTEXT_LEN\n",
    "            # pred_pref = pred_pref.reshape(Bp * Tp, D)\n",
    "            target_match_embd = torch.cat([player_embed[:,1:,:],attended_embedding[:,1:,:]]) # (B,T,2*PERFORMANCE_EMBD_DIM) attended_embd includes the match_info itself as cancatinated \n",
    "            target_match_embd = target_match_embd.view(Bp*Tp,-1)\n",
    "            target_match_embd = self.proj2(target_match_embd) # (Bp,Tp,2*PERFORMANCE_EMBD_DIM) -> (Bp,Tp,PERFORMANCE_EMBD_DIM)\n",
    "            target_match_embd = target_match_embd.reshape(Bp,Tp,-1)\n",
    "            # print(\"target_match_embd: shape\")\n",
    "            # print(target_match_embd.shape)\n",
    "            # print(\"player_embed_context_len: shape\")\n",
    "            # print(player_embed[:,1:,:].shape)\n",
    "            \n",
    "            pred_fantasy = self.fantasy_score_prediction_module(pred_pref,player_embed[:,1:,:],target_match_embd)  # we are back and forth giving player_embd till now we used it or passed it 3 times  \n",
    "            #TODO need to handle if the shape is (B,T,3) 3 refers to batting_fp,bowling_fp,fielding_fp and total_fp is just some of these \n",
    "            \n",
    "            # pred_fantasy_flat = pred_fantasy.view(-1,3) # (B,T,3) ->(B*T,)\n",
    "            # target_flat = target.view(-1,3) #(B*T,)\n",
    "            # loss = self.custom_loss(pred_fantasy,target)\n",
    "            \n",
    "        return pred_fantasy \n",
    "            \n",
    "            \n",
    "        "
   ]
  },
  {
   "cell_type": "code",
   "execution_count": 55,
   "id": "83f74f76",
   "metadata": {},
   "outputs": [],
   "source": [
    "# experiment with the dropout layers\n",
    "class FantasyScorePrediction(nn.Module):\n",
    "    \"\"\"Predict the Fantasy Score by the <CLS> embedding, the next match_embedding, and the player_embedding.\"\"\"\n",
    "    def __init__(self, embedding_dim=config.PERFORMANCE_EMBD_DIM):\n",
    "        super().__init__()\n",
    "        self.proj1 = nn.Linear(3 * config.PERFORMANCE_EMBD_DIM, 2048)\n",
    "        self.proj2 = nn.Linear(2048, 512)\n",
    "        self.proj3 = nn.Linear(512, 512)\n",
    "        self.proj4 = nn.Linear(512, 256)\n",
    "        self.proj5 = nn.Linear(256, 256)\n",
    "        self.proj6 = nn.Linear(256, 128)\n",
    "        self.proj7 = nn.Linear(128, 128)\n",
    "        self.proj8 = nn.Linear(128, 3)\n",
    "\n",
    "    def forward(self, pred_pref, target_player_embd, target_match_embd): \n",
    "        # Concatenate the embeddings along the last dimension\n",
    "        # print(f\"NI fantasy {pred_pref.shape} & {target_player_embd.shape} & {target_match_embd.shape}\")\n",
    "        x = torch.cat([pred_pref, target_player_embd, target_match_embd], dim=-1)\n",
    "        # print(f\"/n x.shape ->{x.shape} \")\n",
    "        x = F.gelu(self.proj1(x))\n",
    "        x = F.gelu(self.proj2(x))\n",
    "        x = F.gelu(self.proj3(x))\n",
    "        x = F.gelu(self.proj4(x))\n",
    "        x = F.gelu(self.proj5(x))\n",
    "        x = F.gelu(self.proj6(x))\n",
    "        x = F.gelu(self.proj7(x))\n",
    "\n",
    "\n",
    "        x = self.proj8(x)\n",
    "\n",
    "        return x\n"
   ]
  },
  {
   "cell_type": "code",
   "execution_count": 56,
   "id": "fc82c711",
   "metadata": {},
   "outputs": [],
   "source": [
    "\n",
    "#TODO considering equal weightage to each time step...\n",
    "def custom_loss_component_fps(pred_fantasy: torch.Tensor,target_components: torch.Tensor,target_total: torch.Tensor = None,gamma : float = 0.5,weights :torch.Tensor= None) -> torch.Tensor:\n",
    "    \"\"\"\n",
    "    computes a weighted loss for multi-component fantasy score prediction.\n",
    "    By including a term that directly compares the sum of the predictions with the\n",
    "    overall target (i.e. total_fp), you ensure that the model learns to get the “big picture” right. \n",
    "    At the same time, the separate losses help the model capture the underlying \n",
    "    structure: where batting and bowling (which are supported by richer\n",
    "    historical data and have more influence) get more weight than fielding.\n",
    "    Args:\n",
    "        pred_fantasy (torch.Tensor): Model prediction of shape (B,T,3), where\n",
    "                        pred_fantasy[:,:,0] -> bating_fp,\n",
    "                        pred_fantasy[:,:1] -> bowling_fp,\n",
    "                        pred_fantasy[:,:2] -> fielding_fp...\n",
    "        target_components (torch.Tensor): Ground truth for the components, shape (B,T,3), with same ordering\n",
    "        target_total (torch.Tensor,optional) : Ground truth total fantasy points of shape (B,T).\n",
    "                                               If not provided, it is computed as sum(target_components, dim=1).\n",
    "        gamma (float,optional) : Trade-off hyperparameter between total and component losses.\n",
    "                                value E (0,1) and default is 0.5.\n",
    "        weights (torch.Tensor,optional) :  weights (torch.Tensor, optional): Weights to be applied to each time step's loss.\n",
    "            Expected shape is (T,). If None, each time step is equally weighted.\n",
    "    Returns : \n",
    "    total_loss (torch.Tensor) : Scalar loss combining total and component-level errors.\n",
    "\n",
    "    \"\"\"\n",
    "    B,T,_ = pred_fantasy.shape\n",
    "    pred_total = pred_fantasy.sum(dim = -1) #(B,T)\n",
    "    \n",
    "    if target_total is None:\n",
    "        target_total = target_components.sum(dim = -1) #(B,T)\n",
    "    abs_error_total = torch.abs(pred_total - target_total) #(B,T)\n",
    "    loss_total = (pred_total - target_total)**2 #(B,T)\n",
    "    comp_weights = torch.tensor([0.4,0.4,0.2],device=pred_fantasy.device, dtype = pred_fantasy.dtype)\n",
    "    loss_components = (((pred_fantasy - target_components)**2)*comp_weights).sum(dim=-1)\n",
    "    combined_loss = gamma * loss_total + (1 - gamma)*loss_components       #(B,T) \n",
    "    if weights is not  None:        \n",
    "        # weights is expected to have shape (T,)\n",
    "\n",
    "        assert weights.dim() == 1 and weights.shape[0] == T, \"weights must be a 1D tensor of shape (T,)\"\n",
    "        combined_loss = combined_loss*weights   \n",
    "    total_loss = combined_loss.mean()\n",
    "    return total_loss\n",
    "        \n",
    "\n",
    "    \n",
    "    \n",
    "    "
   ]
  },
  {
   "cell_type": "code",
   "execution_count": 57,
   "id": "4b261bad",
   "metadata": {},
   "outputs": [],
   "source": [
    "def custom_asymmetric_loss(pred, target, delta=30.0, penalty=2.0, extra_factor=1.5):\n",
    "    \"\"\"\n",
    "    Asymmetric Huber-style loss that emphasizes errors above 10.\n",
    "    \n",
    "    Parameters:\n",
    "        pred (Tensor): Model predictions (floating point)\n",
    "        target (Tensor): Target values (integers)\n",
    "        delta (float): Transition point from quadratic to linear penalty.\n",
    "        penalty (float): Factor to amplify the loss when pred < target.\n",
    "        extra_factor (float): Additional factor to scale the loss in the linear region, if desired.\n",
    "    \n",
    "    Returns:\n",
    "        Tensor: Mean loss value.\n",
    "    \"\"\"\n",
    "    error = pred - target\n",
    "    abs_err = error.abs()\n",
    "    \n",
    "    # Compute the quadratic (small error) region\n",
    "    loss_small = torch.where(\n",
    "        error < 0,\n",
    "        penalty * 0.5 * error.pow(2),\n",
    "        0.5 * error.pow(2)\n",
    "    )\n",
    "    \n",
    "    # Compute the linear (large error) region with optional extra scaling\n",
    "    base_loss_large = torch.where(\n",
    "        error < 0,\n",
    "        penalty * (delta * (abs_err - 0.5 * delta)),\n",
    "        delta * (abs_err - 0.5 * delta)\n",
    "    )\n",
    "    \n",
    "    # Optionally apply an extra factor to errors that are above the desired threshold\n",
    "    loss_large = torch.where(\n",
    "        abs_err > delta,\n",
    "        extra_factor * base_loss_large,\n",
    "        base_loss_large\n",
    "    )\n",
    "\n",
    "    # for err in abs_err:\n",
    "    #     if err <= delta:\n",
    "    #         print(\"yEs\")\n",
    "    #     else:\n",
    "    #         print(\"Np\")\n",
    "\n",
    "    loss = torch.where(abs_err <= delta, loss_small, loss_large)\n",
    "    # print(abs_err.mean())\n",
    "    return loss.mean()\n"
   ]
  },
  {
   "cell_type": "code",
   "execution_count": 59,
   "id": "89d7e671",
   "metadata": {},
   "outputs": [],
   "source": [
    "\n",
    "\n",
    "#TODO considering equal weightage to each time step...\n",
    "def custom_loss_component_fps_accounting_for_outliers(\n",
    "    pred_fantasy: torch.Tensor,\n",
    "    target_components: torch.Tensor,\n",
    "    target_total: torch.Tensor = None,\n",
    "    gamma : float = 0.75,\n",
    "    weights :torch.Tensor= None,\n",
    "    epoch: int = 0,\n",
    "    total_epoches : int = 100,\n",
    "    decay_rate : float = 0.05, # decides how fast the threshold converges..\n",
    "    decay_rate2 : float = 0.0075, #TODO choosen carefully (might require more consideration!...) maybe 0.0075 we a better choise\n",
    "    #At diff = 92.4, weight ≈ 0.5  At diff = 100, weight ≈ 0.47  At diff = 150, weight ≈ 0.29\n",
    "    upper_threshold : float = 200,\n",
    "    min_threshold : float = 100,\n",
    "    \n",
    "    ) -> torch.Tensor:\n",
    "    \"\"\"\n",
    "    computes a weighted loss for multi-component fantasy score prediction.\n",
    "    By including a term that directly compares the sum of the predictions with the\n",
    "    overall target (i.e. total_fp), you ensure that the model learns to get the “big picture” right. \n",
    "    At the same time, the separate losses help the model capture the underlying \n",
    "    structure: where batting and bowling (which are supported by richer\n",
    "    historical data and have more influence) get more weight than fielding.\n",
    "    Args:\n",
    "        pred_fantasy (torch.Tensor): Model prediction of shape (B,T,3), where\n",
    "                        pred_fantasy[:,:,0] -> bating_fp,\n",
    "                        pred_fantasy[:,:1] -> bowling_fp,\n",
    "                        pred_fantasy[:,:2] -> fielding_fp...\n",
    "        target_components (torch.Tensor): Ground truth for the components, shape (B,T,3), with same ordering\n",
    "        target_total (torch.Tensor,optional) : Ground truth total fantasy points of shape (B,T).\n",
    "                                               If not provided, it is computed as sum(target_components, dim=1).\n",
    "        gamma (float,optional) : Trade-off hyperparameter between total and component losses.\n",
    "                                value E (0,1) and default is 0.5.\n",
    "        weights (torch.Tensor,optional) :  weights (torch.Tensor, optional): Weights to be applied to each time step's loss.\n",
    "            Expected shape is (T,). If None, each time step is equally weighted.\n",
    "    Returns : \n",
    "    total_loss (torch.Tensor) : Scalar loss combining total and component-level errors.\n",
    "\n",
    "    \"\"\"\n",
    "    B,T,_ = pred_fantasy.shape\n",
    "    pred_total = pred_fantasy.sum(dim = -1) #(B,T)\n",
    "    \n",
    "    if target_total is None:\n",
    "        target_total = target_components.sum(dim = -1) #(B,T)\n",
    "    error = pred_total - target_total\n",
    "    abs_error_total = torch.abs(pred_total - target_total) #(B,T)\n",
    "    # effective_threshold = math.exp(-decay_rate*epoch) # it should start as inf(consider,upper_threshold = 250) and gradualy decrease toward min_threshold as epoch -> total_epoch\n",
    "    effective_threshold = (upper_threshold - min_threshold) * math.exp(-decay_rate * (epoch/total_epoches)) + min_threshold\n",
    "    # For errors that exceed the threshold reduce their panelity \n",
    "    # otherwise keep their weighting at 1.\n",
    "    weight_total = torch.where(\n",
    "        abs_error_total > effective_threshold,\n",
    "        torch.exp(-decay_rate2 * (abs_error_total - effective_threshold)), #! That was the reason for loss to shut down , because the weights to the outlier were too low 0.0067 \n",
    "        torch.ones_like(abs_error_total)        \n",
    "    )\n",
    "    loss_total = (pred_total - target_total)**2 #(B,T)\n",
    "    comp_weights = torch.tensor([0.4,0.4,0.2],device=pred_fantasy.device, dtype = pred_fantasy.dtype)\n",
    "    loss_components = (((pred_fantasy - target_components)**2)*comp_weights).sum(dim=-1)\n",
    "    combined_loss = gamma * loss_total + (1 - gamma)*loss_components       #(B,T) \n",
    "    combined_loss = combined_loss*weight_total\n",
    "    if weights is not None:        \n",
    "        # weights is expected to have shape (T,)\n",
    "        assert weights.dim() == 1 and weights.shape[0] == T, \"weights must be a 1D tensor of shape (T,)\"\n",
    "        combined_loss = combined_loss*weights   \n",
    "    total_loss = combined_loss.mean()\n",
    "    return total_loss\n",
    "        \n",
    "\n",
    "    \n",
    "    \n",
    "    "
   ]
  },
  {
   "cell_type": "code",
   "execution_count": 60,
   "id": "15266654",
   "metadata": {},
   "outputs": [],
   "source": [
    "player_embedding_module = PlayerEmbedding(\n",
    "    in_channels=config.PLAYER_INPUT_DIM,\n",
    "    out_channels=config.PERFORMANCE_EMBD_DIM\n",
    ")\n",
    "\n",
    "# Note: NextFormPredictor expects the *class* MatchEmbedding so that inside it\n",
    "# it can do `match_embedding_module(player_embedding_module)`\n",
    "cross_attention_module = CrossAttention()\n",
    "cross_attention_embedding_module = ApplyCrossAttention\n",
    "fantasy_score_prediction_module = FantasyScorePrediction(\n",
    "    embedding_dim=config.PERFORMANCE_EMBD_DIM\n",
    ")\n",
    "custom_loss = custom_loss_component_fps_accounting_for_outliers\n",
    "\n",
    "model = NextFormPredictor1(\n",
    "    player_embedding_module=player_embedding_module,\n",
    "    cross_attention_module= cross_attention_module,\n",
    "    cross_Attention_embedding_module=cross_attention_embedding_module,\n",
    "    fantasy_score_prediction_module=fantasy_score_prediction_module,\n",
    "    # custom_loss=custom_loss,\n",
    "    embedding_dim=config.PERFORMANCE_EMBD_DIM,\n",
    "    num_layers=6,\n",
    "    n_head=8\n",
    ").to(config.DEVICE)\n",
    "\n",
    "\n",
    "\n",
    "optimizer = torch.optim.AdamW(model.parameters(), lr=config.LEARNING_RATE)\n"
   ]
  },
  {
   "cell_type": "code",
   "execution_count": 61,
   "id": "d77b923b",
   "metadata": {},
   "outputs": [],
   "source": [
    "\n",
    "from tqdm import tqdm\n",
    "from typing import List\n",
    "import matplotlib.pyplot as plt\n",
    "from IPython.display import display,clear_output\n",
    "import math \n",
    "\n",
    "# Enable interactive mode\n",
    "plt.ion()\n",
    "\n",
    "def train(model, dataloader, start_epoch=0,\n",
    "          decay_rate : float = 5, # decides how fast the threshold converges..\n",
    "    upper_threshold : float = 300,\n",
    "    min_threshold : float = 50,\n",
    "    ):\n",
    "    model.to(config.DEVICE)\n",
    "    optimizer = torch.optim.AdamW(model.parameters(), lr=config.LEARNING_RATE)\n",
    "    epoch_losses = []\n",
    "    losses = []\n",
    "    \n",
    "    inner_fig, inner_ax = plt.subplots(figsize=(10,4))\n",
    "    inner_handle = display(inner_fig, display_id=True)\n",
    "    # display(inner_fig)  # display it once, then update its axes\n",
    "    \n",
    "    # Create a persistent outer plot display handle (for epoch-level plots)\n",
    "    # outer_fig = None\n",
    "    outer_handle = display(None, display_id=True)\n",
    "    batch_counter = 0\n",
    "    for epoch in range(start_epoch, config.NUM_EPOCHS):\n",
    "        model.train()\n",
    "        total_loss = 0.0\n",
    "        effective_threshold = (upper_threshold - min_threshold) * math.exp(-decay_rate * (epoch / config.NUM_EPOCHS)) + min_threshold\n",
    "        \n",
    "        pred_total_fantasy_list = []      # cumulative predicted total fantasy points\n",
    "        target_total_fantasy_list = []    # cumulative target total fantasy points\n",
    "        error_list = []                   # cumulative error values (pred - target)\n",
    "        effective_threshold_list = []     # effective threshold replicated per match (for each batch)\n",
    "        no_outliers_per_batch = []        # number of outlier matches per batch\n",
    "\n",
    "        # Wrap dataloader with tqdm for progress bar\n",
    "        loop = tqdm(dataloader, leave=True)\n",
    "        loop.set_description(f\"Epoch [{epoch+1}/{config.NUM_EPOCHS}]\")\n",
    "        for batch in loop:\n",
    "            # Move tensors to device\n",
    "            for k, v in batch.items():\n",
    "                if torch.is_tensor(v):\n",
    "                    batch[k] = v.to(config.DEVICE)\n",
    "\n",
    "            # Unpack batch\n",
    "            player_univ   = batch['univ_features']\n",
    "            context_feats = batch['context_matches']\n",
    "            team2_players = batch['team2_players']\n",
    "            match_info    = batch['match_info']\n",
    "            target_scores = batch['target_scores']\n",
    "            \n",
    "            \n",
    "            optimizer.zero_grad()\n",
    "            pred_fantasy = model(\n",
    "                player_univ,\n",
    "                context_feats,\n",
    "                team2_players,\n",
    "                match_info,\n",
    "                target_scores\n",
    "            )\n",
    "            pred_total_fantasy = pred_fantasy.sum(dim = -1).reshape(-1) #(B*T,)\n",
    "            target_total_fantasy = target_scores.sum(dim =-1).reshape(-1) #(B*T,)\n",
    "            error = pred_total_fantasy - target_total_fantasy  # tensor shape: (B*T,)\n",
    "            abs_error_batch = error.abs()\n",
    "            \n",
    "        \n",
    "            pred_total_fantasy_list.extend(pred_total_fantasy.tolist())\n",
    "            target_total_fantasy_list.extend(target_total_fantasy.tolist())\n",
    "            error_list.extend(error.tolist())\n",
    "            effective_threshold_list.extend([effective_threshold] * error.shape[0])\n",
    "            \n",
    "            #count outliers: matches where abs(error) > effective_threshold.\n",
    "            outlier_count = int(torch.sum((abs_error_batch > effective_threshold).to(torch.int)).item())\n",
    "            no_outliers_per_batch.append(outlier_count)\n",
    "            \n",
    "            #Compute loss\n",
    "            loss = custom_loss(pred_fantasy, target_scores, epoch=epoch,\n",
    "                               total_epoches=config.NUM_EPOCHS,decay_rate=decay_rate,upper_threshold=upper_threshold, min_threshold=min_threshold)\n",
    "            loss.backward()\n",
    "            optimizer.step()\n",
    "            \n",
    "            loss_value = loss.item()\n",
    "            losses.append(loss_value)\n",
    "            total_loss += loss_value\n",
    "            batch_counter += 1\n",
    "            \n",
    "            loop.set_postfix(loss=loss_value)     \n",
    "            # print(\"error_batch.shape: \")\n",
    "            # print(error_batch.shape)\n",
    "            inner_ax.cla()  # clear only the inner figure axes\n",
    "            inner_ax.plot(range(len(losses)),losses, label='Batch Loss', color='orange')\n",
    "            inner_ax.set_xlabel('Batch Iteration')\n",
    "            inner_ax.set_ylabel('Loss')\n",
    "            inner_ax.set_title('Training Loss (Batch Level)')\n",
    "            inner_ax.grid(True)\n",
    "            inner_ax.legend()\n",
    "            inner_fig.canvas.draw()\n",
    "            inner_fig.canvas.flush_events()\n",
    "            inner_handle.update(inner_fig) \n",
    "            # inner_fig.canvas.draw_idle()\n",
    "              \n",
    "        # clear_output(wait = True)\n",
    "        outer_fig, (ax11,ax12,ax2,ax3) = plt.subplots(4,1,figsize=(10,16))\n",
    "        \n",
    "        # Subplot 1: Cumulative predicted vs. target total fantasy points\n",
    "        ax11.plot(pred_total_fantasy_list, label='Predicted Total FP', color='red')\n",
    "        ax11.set_xlabel('Match Index wrt batch!..')\n",
    "        ax11.set_ylabel('Fantasy Points')\n",
    "        ax11.set_title('Predicted Total Fantasy Points')\n",
    "        ax11.grid(True)\n",
    "        ax11.legend()\n",
    "        \n",
    "        ax12.plot(range(len(target_total_fantasy_list)),target_total_fantasy_list, label='Target Total FP', color='blue')\n",
    "        ax12.set_xlabel('Match Index wrt batch!..')\n",
    "        ax12.set_ylabel('Fantasy Points')\n",
    "        ax12.set_title('Target Total Fantasy Points')\n",
    "        ax12.grid(True)\n",
    "        ax12.legend()\n",
    "        \n",
    "        \n",
    "        # Subplot 2: Cumulative error with effective threshold lines\n",
    "        ax2.plot(range(len(error_list)),error_list, label='Error (Pred - Target)', color='red')\n",
    "        # Plot the effective threshold (and its negative) as horizontal lines\n",
    "        ax2.plot(range(len(effective_threshold_list)),effective_threshold_list, label='Effective Threshold', color='green', linestyle='--')\n",
    "        ax2.plot(range(len(effective_threshold_list)), [-thr for thr in effective_threshold_list], label='-Effective Threshold', color='green', linestyle='--')\n",
    "        ax2.set_xlabel('Match Index wrt batch!..')\n",
    "        ax2.set_ylabel('Error')\n",
    "        ax2.set_title('Batch-wise Errors with Effective Threshold')\n",
    "        ax2.grid(True)\n",
    "        ax2.legend()\n",
    "        \n",
    "        # Subplot 3: Outliers per batch\n",
    "        # Create an x-axis for batches (1-indexed)\n",
    "        ax3.plot(range(len(no_outliers_per_batch)), no_outliers_per_batch, marker='o',\n",
    "                    label='No. of Outliers per Batch', color='purple')\n",
    "        ax3.set_xlabel('Batch Index')\n",
    "        ax3.set_ylabel('Number of Outliers')\n",
    "        ax3.set_title('Outliers per Batch')\n",
    "        ax3.grid(True)\n",
    "        ax3.legend()\n",
    "        plt.tight_layout()\n",
    "        \n",
    "        outer_handle.update(outer_fig)\n",
    "        # plt.close(outer_fig)\n",
    "        \n",
    "        avg_loss = total_loss / len(dataloader)\n",
    "        epoch_losses.append(avg_loss)  \n",
    "    \n",
    "        print(f\"Epoch {epoch+1}/{config.NUM_EPOCHS} — Avg Loss: {avg_loss:.4f}\")\n",
    "        if (epoch - start_epoch) % 25 == 0:\n",
    "            checkpoint_path = f\"ipl_model_epoch_{epoch}_with_asymmetric_loss.pth\"\n",
    "            torch.save({\n",
    "                'model_state_dict': model.state_dict(),\n",
    "                'optimizer_state_dict': optimizer.state_dict(),\n",
    "            }, checkpoint_path)\n",
    "            print(f\"Checkpoint saved at {checkpoint_path}\")\n",
    "\n",
    "\n",
    "    return epoch_losses,losses\n"
   ]
  },
  {
   "cell_type": "code",
   "execution_count": null,
   "id": "a185f956",
   "metadata": {},
   "outputs": [],
   "source": []
  },
  {
   "cell_type": "code",
   "execution_count": 62,
   "id": "618388bf",
   "metadata": {},
   "outputs": [
    {
     "data": {
      "text/plain": [
       "3728515"
      ]
     },
     "execution_count": 62,
     "metadata": {},
     "output_type": "execute_result"
    }
   ],
   "source": [
    "total_params = sum(p.numel() for p in model.parameters() if p.requires_grad)\n",
    "total_params"
   ]
  },
  {
   "cell_type": "code",
   "execution_count": 63,
   "id": "cbf81a55",
   "metadata": {},
   "outputs": [
    {
     "name": "stdout",
     "output_type": "stream",
     "text": [
      "CUDA available: True\n"
     ]
    }
   ],
   "source": [
    "import torch\n",
    "\n",
    "print(\"CUDA available:\", torch.cuda.is_available())\n"
   ]
  },
  {
   "cell_type": "code",
   "execution_count": null,
   "id": "8d7bb388",
   "metadata": {},
   "outputs": [],
   "source": []
  },
  {
   "cell_type": "code",
   "execution_count": null,
   "id": "1f2a9556",
   "metadata": {},
   "outputs": [
    {
     "data": {
      "image/png": "[encoded data removed]",
      "text/plain": [
       "<Figure size 1000x400 with 1 Axes>"
      ]
     },
     "metadata": {},
     "output_type": "display_data"
    },
    {
     "data": {
      "image/png": "[encoded data removed]",
      "text/plain": [
       "<Figure size 1000x1600 with 4 Axes>"
      ]
     },
     "metadata": {},
     "output_type": "display_data"
    },
    {
     "name": "stderr",
     "output_type": "stream",
     "text": [
      "Epoch [1/100]: 100%|██████████| 74/74 [03:07<00:00,  2.53s/it, loss=1.33e+3]\n"
     ]
    },
    {
     "name": "stdout",
     "output_type": "stream",
     "text": [
      "Epoch 1/100 — Avg Loss: 1605.2937\n",
      "Checkpoint saved at ipl_model_epoch_0_with_asymmetric_loss.pth\n"
     ]
    },
    {
     "name": "stderr",
     "output_type": "stream",
     "text": [
      "Epoch [2/100]: 100%|██████████| 74/74 [03:08<00:00,  2.54s/it, loss=1.36e+3]\n"
     ]
    },
    {
     "name": "stdout",
     "output_type": "stream",
     "text": [
      "Epoch 2/100 — Avg Loss: 1407.7807\n"
     ]
    },
    {
     "name": "stderr",
     "output_type": "stream",
     "text": [
      "Epoch [3/100]: 100%|██████████| 74/74 [03:01<00:00,  2.46s/it, loss=1.12e+3]\n"
     ]
    },
    {
     "name": "stdout",
     "output_type": "stream",
     "text": [
      "Epoch 3/100 — Avg Loss: 1385.5950\n"
     ]
    },
    {
     "name": "stderr",
     "output_type": "stream",
     "text": [
      "Epoch [4/100]: 100%|██████████| 74/74 [03:03<00:00,  2.48s/it, loss=1.31e+3]\n"
     ]
    },
    {
     "name": "stdout",
     "output_type": "stream",
     "text": [
      "Epoch 4/100 — Avg Loss: 1358.8871\n"
     ]
    },
    {
     "name": "stderr",
     "output_type": "stream",
     "text": [
      "Epoch [5/100]: 100%|██████████| 74/74 [03:03<00:00,  2.48s/it, loss=1.23e+3]\n"
     ]
    },
    {
     "name": "stdout",
     "output_type": "stream",
     "text": [
      "Epoch 5/100 — Avg Loss: 1342.0143\n"
     ]
    },
    {
     "name": "stderr",
     "output_type": "stream",
     "text": [
      "Epoch [6/100]: 100%|██████████| 74/74 [03:05<00:00,  2.50s/it, loss=1.06e+3]\n"
     ]
    },
    {
     "name": "stdout",
     "output_type": "stream",
     "text": [
      "Epoch 6/100 — Avg Loss: 1326.2789\n"
     ]
    },
    {
     "name": "stderr",
     "output_type": "stream",
     "text": [
      "Epoch [7/100]: 100%|██████████| 74/74 [03:03<00:00,  2.48s/it, loss=1.18e+3]\n"
     ]
    },
    {
     "name": "stdout",
     "output_type": "stream",
     "text": [
      "Epoch 7/100 — Avg Loss: 1312.6055\n"
     ]
    },
    {
     "name": "stderr",
     "output_type": "stream",
     "text": [
      "Epoch [8/100]: 100%|██████████| 74/74 [03:07<00:00,  2.53s/it, loss=1.37e+3]\n"
     ]
    },
    {
     "name": "stdout",
     "output_type": "stream",
     "text": [
      "Epoch 8/100 — Avg Loss: 1289.7858\n"
     ]
    },
    {
     "name": "stderr",
     "output_type": "stream",
     "text": [
      "Epoch [9/100]: 100%|██████████| 74/74 [03:07<00:00,  2.53s/it, loss=1.34e+3]\n"
     ]
    },
    {
     "name": "stdout",
     "output_type": "stream",
     "text": [
      "Epoch 9/100 — Avg Loss: 1289.7146\n"
     ]
    },
    {
     "name": "stderr",
     "output_type": "stream",
     "text": [
      "Epoch [10/100]: 100%|██████████| 74/74 [03:07<00:00,  2.53s/it, loss=1.5e+3] \n"
     ]
    },
    {
     "name": "stdout",
     "output_type": "stream",
     "text": [
      "Epoch 10/100 — Avg Loss: 1273.7950\n"
     ]
    },
    {
     "name": "stderr",
     "output_type": "stream",
     "text": [
      "Epoch [11/100]: 100%|██████████| 74/74 [03:10<00:00,  2.58s/it, loss=1.34e+3]\n"
     ]
    },
    {
     "name": "stdout",
     "output_type": "stream",
     "text": [
      "Epoch 11/100 — Avg Loss: 1297.9477\n"
     ]
    },
    {
     "name": "stderr",
     "output_type": "stream",
     "text": [
      "Epoch [12/100]: 100%|██████████| 74/74 [03:10<00:00,  2.58s/it, loss=1.19e+3]\n"
     ]
    },
    {
     "name": "stdout",
     "output_type": "stream",
     "text": [
      "Epoch 12/100 — Avg Loss: 1295.0745\n"
     ]
    },
    {
     "name": "stderr",
     "output_type": "stream",
     "text": [
      "Epoch [13/100]: 100%|██████████| 74/74 [03:12<00:00,  2.60s/it, loss=1.53e+3]\n"
     ]
    },
    {
     "name": "stdout",
     "output_type": "stream",
     "text": [
      "Epoch 13/100 — Avg Loss: 1287.1167\n"
     ]
    },
    {
     "name": "stderr",
     "output_type": "stream",
     "text": [
      "Epoch [14/100]: 100%|██████████| 74/74 [03:12<00:00,  2.60s/it, loss=1.15e+3]\n"
     ]
    },
    {
     "name": "stdout",
     "output_type": "stream",
     "text": [
      "Epoch 14/100 — Avg Loss: 1273.9385\n"
     ]
    },
    {
     "name": "stderr",
     "output_type": "stream",
     "text": [
      "Epoch [15/100]: 100%|██████████| 74/74 [03:08<00:00,  2.55s/it, loss=1.2e+3] \n"
     ]
    },
    {
     "name": "stdout",
     "output_type": "stream",
     "text": [
      "Epoch 15/100 — Avg Loss: 1272.7440\n"
     ]
    },
    {
     "name": "stderr",
     "output_type": "stream",
     "text": [
      "Epoch [16/100]: 100%|██████████| 74/74 [03:10<00:00,  2.57s/it, loss=1.3e+3] \n"
     ]
    },
    {
     "name": "stdout",
     "output_type": "stream",
     "text": [
      "Epoch 16/100 — Avg Loss: 1294.5167\n"
     ]
    },
    {
     "name": "stderr",
     "output_type": "stream",
     "text": [
      "Epoch [17/100]: 100%|██████████| 74/74 [03:10<00:00,  2.58s/it, loss=1.24e+3]\n"
     ]
    },
    {
     "name": "stdout",
     "output_type": "stream",
     "text": [
      "Epoch 17/100 — Avg Loss: 1263.7206\n"
     ]
    },
    {
     "name": "stderr",
     "output_type": "stream",
     "text": [
      "Epoch [18/100]: 100%|██████████| 74/74 [03:14<00:00,  2.62s/it, loss=1.22e+3]\n"
     ]
    },
    {
     "name": "stdout",
     "output_type": "stream",
     "text": [
      "Epoch 18/100 — Avg Loss: 1255.6262\n"
     ]
    },
    {
     "name": "stderr",
     "output_type": "stream",
     "text": [
      "Epoch [19/100]: 100%|██████████| 74/74 [03:11<00:00,  2.58s/it, loss=1.15e+3]\n"
     ]
    },
    {
     "name": "stdout",
     "output_type": "stream",
     "text": [
      "Epoch 19/100 — Avg Loss: 1270.6199\n"
     ]
    },
    {
     "name": "stderr",
     "output_type": "stream",
     "text": [
      "Epoch [20/100]: 100%|██████████| 74/74 [03:11<00:00,  2.58s/it, loss=1.35e+3]\n",
      "C:\\Users\\kumar\\AppData\\Local\\Temp\\ipykernel_23892\\3321984477.py:106: RuntimeWarning: More than 20 figures have been opened. Figures created through the pyplot interface (`matplotlib.pyplot.figure`) are retained until explicitly closed and may consume too much memory. (To control this warning, see the rcParam `figure.max_open_warning`). Consider using `matplotlib.pyplot.close()`.\n",
      "  outer_fig, (ax11,ax12,ax2,ax3) = plt.subplots(4,1,figsize=(10,16))\n"
     ]
    },
    {
     "name": "stdout",
     "output_type": "stream",
     "text": [
      "Epoch 20/100 — Avg Loss: 1262.9460\n"
     ]
    },
    {
     "name": "stderr",
     "output_type": "stream",
     "text": [
      "Epoch [21/100]: 100%|██████████| 74/74 [03:12<00:00,  2.60s/it, loss=1.14e+3]\n"
     ]
    },
    {
     "name": "stdout",
     "output_type": "stream",
     "text": [
      "Epoch 21/100 — Avg Loss: 1244.4107\n"
     ]
    },
    {
     "name": "stderr",
     "output_type": "stream",
     "text": [
      "Epoch [22/100]: 100%|██████████| 74/74 [03:13<00:00,  2.61s/it, loss=1.41e+3]\n"
     ]
    },
    {
     "name": "stdout",
     "output_type": "stream",
     "text": [
      "Epoch 22/100 — Avg Loss: 1257.2160\n"
     ]
    },
    {
     "name": "stderr",
     "output_type": "stream",
     "text": [
      "Epoch [23/100]: 100%|██████████| 74/74 [03:17<00:00,  2.67s/it, loss=1.1e+3] \n"
     ]
    },
    {
     "name": "stdout",
     "output_type": "stream",
     "text": [
      "Epoch 23/100 — Avg Loss: 1234.7694\n"
     ]
    },
    {
     "name": "stderr",
     "output_type": "stream",
     "text": [
      "Epoch [24/100]: 100%|██████████| 74/74 [03:12<00:00,  2.60s/it, loss=983]    \n"
     ]
    },
    {
     "name": "stdout",
     "output_type": "stream",
     "text": [
      "Epoch 24/100 — Avg Loss: 1221.9049\n"
     ]
    },
    {
     "name": "stderr",
     "output_type": "stream",
     "text": [
      "Epoch [25/100]: 100%|██████████| 74/74 [03:17<00:00,  2.67s/it, loss=1.21e+3]\n"
     ]
    },
    {
     "name": "stdout",
     "output_type": "stream",
     "text": [
      "Epoch 25/100 — Avg Loss: 1236.5069\n"
     ]
    },
    {
     "name": "stderr",
     "output_type": "stream",
     "text": [
      "Epoch [26/100]: 100%|██████████| 74/74 [03:15<00:00,  2.64s/it, loss=1.03e+3]\n"
     ]
    },
    {
     "name": "stdout",
     "output_type": "stream",
     "text": [
      "Epoch 26/100 — Avg Loss: 1215.8314\n",
      "Checkpoint saved at ipl_model_epoch_25_with_asymmetric_loss.pth\n"
     ]
    },
    {
     "name": "stderr",
     "output_type": "stream",
     "text": [
      "Epoch [27/100]: 100%|██████████| 74/74 [03:19<00:00,  2.70s/it, loss=1.13e+3]\n"
     ]
    },
    {
     "name": "stdout",
     "output_type": "stream",
     "text": [
      "Epoch 27/100 — Avg Loss: 1214.4918\n"
     ]
    },
    {
     "name": "stderr",
     "output_type": "stream",
     "text": [
      "Epoch [28/100]: 100%|██████████| 74/74 [03:16<00:00,  2.65s/it, loss=948]    \n"
     ]
    },
    {
     "name": "stdout",
     "output_type": "stream",
     "text": [
      "Epoch 28/100 — Avg Loss: 1174.4089\n"
     ]
    },
    {
     "name": "stderr",
     "output_type": "stream",
     "text": [
      "Epoch [29/100]: 100%|██████████| 74/74 [03:19<00:00,  2.69s/it, loss=953]    \n"
     ]
    },
    {
     "name": "stdout",
     "output_type": "stream",
     "text": [
      "Epoch 29/100 — Avg Loss: 1173.1120\n"
     ]
    },
    {
     "name": "stderr",
     "output_type": "stream",
     "text": [
      "Epoch [30/100]: 100%|██████████| 74/74 [03:14<00:00,  2.63s/it, loss=1.37e+3]\n"
     ]
    },
    {
     "name": "stdout",
     "output_type": "stream",
     "text": [
      "Epoch 30/100 — Avg Loss: 1168.7292\n"
     ]
    },
    {
     "name": "stderr",
     "output_type": "stream",
     "text": [
      "Epoch [31/100]: 100%|██████████| 74/74 [03:16<00:00,  2.65s/it, loss=1.4e+3] \n"
     ]
    },
    {
     "name": "stdout",
     "output_type": "stream",
     "text": [
      "Epoch 31/100 — Avg Loss: 1169.9057\n"
     ]
    },
    {
     "name": "stderr",
     "output_type": "stream",
     "text": [
      "Epoch [32/100]: 100%|██████████| 74/74 [03:16<00:00,  2.65s/it, loss=1.34e+3]\n"
     ]
    },
    {
     "name": "stdout",
     "output_type": "stream",
     "text": [
      "Epoch 32/100 — Avg Loss: 1165.0402\n"
     ]
    },
    {
     "name": "stderr",
     "output_type": "stream",
     "text": [
      "Epoch [33/100]: 100%|██████████| 74/74 [03:15<00:00,  2.64s/it, loss=1.21e+3]\n"
     ]
    },
    {
     "name": "stdout",
     "output_type": "stream",
     "text": [
      "Epoch 33/100 — Avg Loss: 1153.7758\n"
     ]
    },
    {
     "name": "stderr",
     "output_type": "stream",
     "text": [
      "Epoch [34/100]: 100%|██████████| 74/74 [03:24<00:00,  2.77s/it, loss=1.17e+3]\n"
     ]
    },
    {
     "name": "stdout",
     "output_type": "stream",
     "text": [
      "Epoch 34/100 — Avg Loss: 1149.1392\n"
     ]
    },
    {
     "name": "stderr",
     "output_type": "stream",
     "text": [
      "Epoch [35/100]: 100%|██████████| 74/74 [03:17<00:00,  2.67s/it, loss=897]    \n"
     ]
    },
    {
     "name": "stdout",
     "output_type": "stream",
     "text": [
      "Epoch 35/100 — Avg Loss: 1156.3385\n"
     ]
    },
    {
     "name": "stderr",
     "output_type": "stream",
     "text": [
      "Epoch [36/100]: 100%|██████████| 74/74 [03:17<00:00,  2.67s/it, loss=913]    \n"
     ]
    },
    {
     "name": "stdout",
     "output_type": "stream",
     "text": [
      "Epoch 36/100 — Avg Loss: 1157.0592\n"
     ]
    },
    {
     "name": "stderr",
     "output_type": "stream",
     "text": [
      "Epoch [37/100]: 100%|██████████| 74/74 [03:20<00:00,  2.70s/it, loss=1.05e+3]\n"
     ]
    },
    {
     "name": "stdout",
     "output_type": "stream",
     "text": [
      "Epoch 37/100 — Avg Loss: 1150.0351\n"
     ]
    },
    {
     "name": "stderr",
     "output_type": "stream",
     "text": [
      "Epoch [38/100]: 100%|██████████| 74/74 [03:14<00:00,  2.63s/it, loss=1.05e+3]\n"
     ]
    },
    {
     "name": "stdout",
     "output_type": "stream",
     "text": [
      "Epoch 38/100 — Avg Loss: 1125.8930\n"
     ]
    },
    {
     "name": "stderr",
     "output_type": "stream",
     "text": [
      "Epoch [39/100]: 100%|██████████| 74/74 [03:17<00:00,  2.66s/it, loss=1.21e+3]\n"
     ]
    },
    {
     "name": "stdout",
     "output_type": "stream",
     "text": [
      "Epoch 39/100 — Avg Loss: 1130.7159\n"
     ]
    },
    {
     "name": "stderr",
     "output_type": "stream",
     "text": [
      "Epoch [40/100]: 100%|██████████| 74/74 [03:21<00:00,  2.73s/it, loss=1.06e+3]\n"
     ]
    },
    {
     "name": "stdout",
     "output_type": "stream",
     "text": [
      "Epoch 40/100 — Avg Loss: 1138.2971\n"
     ]
    },
    {
     "name": "stderr",
     "output_type": "stream",
     "text": [
      "Epoch [41/100]: 100%|██████████| 74/74 [03:20<00:00,  2.71s/it, loss=1.06e+3]\n"
     ]
    },
    {
     "name": "stdout",
     "output_type": "stream",
     "text": [
      "Epoch 41/100 — Avg Loss: 1114.1699\n"
     ]
    },
    {
     "name": "stderr",
     "output_type": "stream",
     "text": [
      "Epoch [42/100]: 100%|██████████| 74/74 [03:14<00:00,  2.63s/it, loss=1.04e+3]\n"
     ]
    },
    {
     "name": "stdout",
     "output_type": "stream",
     "text": [
      "Epoch 42/100 — Avg Loss: 1110.2310\n"
     ]
    },
    {
     "name": "stderr",
     "output_type": "stream",
     "text": [
      "Epoch [43/100]: 100%|██████████| 74/74 [03:26<00:00,  2.79s/it, loss=1.5e+3] \n"
     ]
    },
    {
     "name": "stdout",
     "output_type": "stream",
     "text": [
      "Epoch 43/100 — Avg Loss: 1108.7717\n"
     ]
    },
    {
     "name": "stderr",
     "output_type": "stream",
     "text": [
      "Epoch [44/100]: 100%|██████████| 74/74 [03:20<00:00,  2.71s/it, loss=1.16e+3]\n"
     ]
    },
    {
     "name": "stdout",
     "output_type": "stream",
     "text": [
      "Epoch 44/100 — Avg Loss: 1105.3198\n"
     ]
    },
    {
     "name": "stderr",
     "output_type": "stream",
     "text": [
      "Epoch [45/100]: 100%|██████████| 74/74 [03:17<00:00,  2.67s/it, loss=978]    \n"
     ]
    },
    {
     "name": "stdout",
     "output_type": "stream",
     "text": [
      "Epoch 45/100 — Avg Loss: 1109.0508\n"
     ]
    },
    {
     "name": "stderr",
     "output_type": "stream",
     "text": [
      "Epoch [46/100]: 100%|██████████| 74/74 [03:30<00:00,  2.84s/it, loss=1.26e+3]\n"
     ]
    },
    {
     "name": "stdout",
     "output_type": "stream",
     "text": [
      "Epoch 46/100 — Avg Loss: 1094.2584\n"
     ]
    },
    {
     "name": "stderr",
     "output_type": "stream",
     "text": [
      "Epoch [47/100]: 100%|██████████| 74/74 [03:30<00:00,  2.84s/it, loss=979]    \n"
     ]
    },
    {
     "name": "stdout",
     "output_type": "stream",
     "text": [
      "Epoch 47/100 — Avg Loss: 1099.1479\n"
     ]
    },
    {
     "name": "stderr",
     "output_type": "stream",
     "text": [
      "Epoch [48/100]: 100%|██████████| 74/74 [03:20<00:00,  2.70s/it, loss=852]    \n"
     ]
    },
    {
     "name": "stdout",
     "output_type": "stream",
     "text": [
      "Epoch 48/100 — Avg Loss: 1083.4818\n"
     ]
    },
    {
     "name": "stderr",
     "output_type": "stream",
     "text": [
      "Epoch [49/100]: 100%|██████████| 74/74 [03:23<00:00,  2.75s/it, loss=1.13e+3]\n"
     ]
    },
    {
     "name": "stdout",
     "output_type": "stream",
     "text": [
      "Epoch 49/100 — Avg Loss: 1091.8788\n"
     ]
    },
    {
     "name": "stderr",
     "output_type": "stream",
     "text": [
      "Epoch [50/100]: 100%|██████████| 74/74 [03:27<00:00,  2.81s/it, loss=944]    \n"
     ]
    },
    {
     "name": "stdout",
     "output_type": "stream",
     "text": [
      "Epoch 50/100 — Avg Loss: 1085.2174\n"
     ]
    },
    {
     "name": "stderr",
     "output_type": "stream",
     "text": [
      "Epoch [51/100]: 100%|██████████| 74/74 [03:24<00:00,  2.76s/it, loss=1.04e+3]\n"
     ]
    },
    {
     "name": "stdout",
     "output_type": "stream",
     "text": [
      "Epoch 51/100 — Avg Loss: 1077.5491\n",
      "Checkpoint saved at ipl_model_epoch_50_with_asymmetric_loss.pth\n"
     ]
    },
    {
     "name": "stderr",
     "output_type": "stream",
     "text": [
      "Epoch [52/100]: 100%|██████████| 74/74 [03:23<00:00,  2.76s/it, loss=1.28e+3]\n"
     ]
    },
    {
     "name": "stdout",
     "output_type": "stream",
     "text": [
      "Epoch 52/100 — Avg Loss: 1091.0707\n"
     ]
    },
    {
     "name": "stderr",
     "output_type": "stream",
     "text": [
      "Epoch [53/100]: 100%|██████████| 74/74 [03:38<00:00,  2.96s/it, loss=845]    \n"
     ]
    },
    {
     "name": "stdout",
     "output_type": "stream",
     "text": [
      "Epoch 53/100 — Avg Loss: 1077.8558\n"
     ]
    },
    {
     "name": "stderr",
     "output_type": "stream",
     "text": [
      "Epoch [54/100]: 100%|██████████| 74/74 [03:35<00:00,  2.91s/it, loss=907]    \n"
     ]
    },
    {
     "name": "stdout",
     "output_type": "stream",
     "text": [
      "Epoch 54/100 — Avg Loss: 1067.2935\n"
     ]
    },
    {
     "name": "stderr",
     "output_type": "stream",
     "text": [
      "Epoch [55/100]: 100%|██████████| 74/74 [03:35<00:00,  2.91s/it, loss=1.18e+3]\n"
     ]
    },
    {
     "name": "stdout",
     "output_type": "stream",
     "text": [
      "Epoch 55/100 — Avg Loss: 1080.1791\n"
     ]
    },
    {
     "name": "stderr",
     "output_type": "stream",
     "text": [
      "Epoch [56/100]: 100%|██████████| 74/74 [03:33<00:00,  2.88s/it, loss=1.01e+3]\n"
     ]
    },
    {
     "name": "stdout",
     "output_type": "stream",
     "text": [
      "Epoch 56/100 — Avg Loss: 1065.0983\n"
     ]
    },
    {
     "name": "stderr",
     "output_type": "stream",
     "text": [
      "Epoch [57/100]: 100%|██████████| 74/74 [03:40<00:00,  2.98s/it, loss=1.12e+3]\n"
     ]
    },
    {
     "name": "stdout",
     "output_type": "stream",
     "text": [
      "Epoch 57/100 — Avg Loss: 1068.8515\n"
     ]
    },
    {
     "name": "stderr",
     "output_type": "stream",
     "text": [
      "Epoch [58/100]: 100%|██████████| 74/74 [03:39<00:00,  2.96s/it, loss=1.12e+3]\n"
     ]
    },
    {
     "name": "stdout",
     "output_type": "stream",
     "text": [
      "Epoch 58/100 — Avg Loss: 1072.9546\n"
     ]
    },
    {
     "name": "stderr",
     "output_type": "stream",
     "text": [
      "Epoch [59/100]: 100%|██████████| 74/74 [03:44<00:00,  3.04s/it, loss=1.22e+3]\n"
     ]
    },
    {
     "name": "stdout",
     "output_type": "stream",
     "text": [
      "Epoch 59/100 — Avg Loss: 1054.1129\n"
     ]
    },
    {
     "name": "stderr",
     "output_type": "stream",
     "text": [
      "Epoch [60/100]: 100%|██████████| 74/74 [03:41<00:00,  2.99s/it, loss=987]    \n"
     ]
    },
    {
     "name": "stdout",
     "output_type": "stream",
     "text": [
      "Epoch 60/100 — Avg Loss: 1052.4962\n"
     ]
    },
    {
     "name": "stderr",
     "output_type": "stream",
     "text": [
      "Epoch [61/100]: 100%|██████████| 74/74 [03:49<00:00,  3.10s/it, loss=1.05e+3]\n"
     ]
    },
    {
     "name": "stdout",
     "output_type": "stream",
     "text": [
      "Epoch 61/100 — Avg Loss: 1060.3443\n"
     ]
    },
    {
     "name": "stderr",
     "output_type": "stream",
     "text": [
      "Epoch [62/100]: 100%|██████████| 74/74 [03:43<00:00,  3.02s/it, loss=1.31e+3]\n"
     ]
    },
    {
     "name": "stdout",
     "output_type": "stream",
     "text": [
      "Epoch 62/100 — Avg Loss: 1054.7628\n"
     ]
    },
    {
     "name": "stderr",
     "output_type": "stream",
     "text": [
      "Epoch [63/100]: 100%|██████████| 74/74 [03:49<00:00,  3.10s/it, loss=1.05e+3]\n"
     ]
    },
    {
     "name": "stdout",
     "output_type": "stream",
     "text": [
      "Epoch 63/100 — Avg Loss: 1063.2279\n"
     ]
    },
    {
     "name": "stderr",
     "output_type": "stream",
     "text": [
      "Epoch [64/100]: 100%|██████████| 74/74 [03:45<00:00,  3.05s/it, loss=1.01e+3]\n"
     ]
    },
    {
     "name": "stdout",
     "output_type": "stream",
     "text": [
      "Epoch 64/100 — Avg Loss: 1034.8777\n"
     ]
    },
    {
     "name": "stderr",
     "output_type": "stream",
     "text": [
      "Epoch [65/100]: 100%|██████████| 74/74 [03:50<00:00,  3.12s/it, loss=1e+3]   \n"
     ]
    },
    {
     "name": "stdout",
     "output_type": "stream",
     "text": [
      "Epoch 65/100 — Avg Loss: 1040.9301\n"
     ]
    },
    {
     "name": "stderr",
     "output_type": "stream",
     "text": [
      "Epoch [66/100]: 100%|██████████| 74/74 [03:52<00:00,  3.14s/it, loss=1.17e+3]\n"
     ]
    },
    {
     "name": "stdout",
     "output_type": "stream",
     "text": [
      "Epoch 66/100 — Avg Loss: 1048.7150\n"
     ]
    },
    {
     "name": "stderr",
     "output_type": "stream",
     "text": [
      "Epoch [67/100]: 100%|██████████| 74/74 [03:51<00:00,  3.13s/it, loss=1.04e+3]\n"
     ]
    },
    {
     "name": "stdout",
     "output_type": "stream",
     "text": [
      "Epoch 67/100 — Avg Loss: 1031.7185\n"
     ]
    },
    {
     "name": "stderr",
     "output_type": "stream",
     "text": [
      "Epoch [68/100]: 100%|██████████| 74/74 [03:50<00:00,  3.12s/it, loss=848]    \n"
     ]
    },
    {
     "name": "stdout",
     "output_type": "stream",
     "text": [
      "Epoch 68/100 — Avg Loss: 1036.4483\n"
     ]
    },
    {
     "name": "stderr",
     "output_type": "stream",
     "text": [
      "Epoch [69/100]: 100%|██████████| 74/74 [03:52<00:00,  3.15s/it, loss=1.24e+3]\n"
     ]
    },
    {
     "name": "stdout",
     "output_type": "stream",
     "text": [
      "Epoch 69/100 — Avg Loss: 1044.6889\n"
     ]
    },
    {
     "name": "stderr",
     "output_type": "stream",
     "text": [
      "Epoch [70/100]: 100%|██████████| 74/74 [03:56<00:00,  3.19s/it, loss=1.05e+3]\n"
     ]
    },
    {
     "name": "stdout",
     "output_type": "stream",
     "text": [
      "Epoch 70/100 — Avg Loss: 1035.5760\n"
     ]
    },
    {
     "name": "stderr",
     "output_type": "stream",
     "text": [
      "Epoch [71/100]: 100%|██████████| 74/74 [03:54<00:00,  3.17s/it, loss=1.08e+3]\n"
     ]
    },
    {
     "name": "stdout",
     "output_type": "stream",
     "text": [
      "Epoch 71/100 — Avg Loss: 1037.2784\n"
     ]
    },
    {
     "name": "stderr",
     "output_type": "stream",
     "text": [
      "Epoch [72/100]: 100%|██████████| 74/74 [03:54<00:00,  3.17s/it, loss=1.13e+3]\n"
     ]
    },
    {
     "name": "stdout",
     "output_type": "stream",
     "text": [
      "Epoch 72/100 — Avg Loss: 1036.2227\n"
     ]
    },
    {
     "name": "stderr",
     "output_type": "stream",
     "text": [
      "Epoch [73/100]: 100%|██████████| 74/74 [03:59<00:00,  3.23s/it, loss=976]    \n"
     ]
    },
    {
     "name": "stdout",
     "output_type": "stream",
     "text": [
      "Epoch 73/100 — Avg Loss: 1037.4263\n"
     ]
    },
    {
     "name": "stderr",
     "output_type": "stream",
     "text": [
      "Epoch [74/100]: 100%|██████████| 74/74 [04:05<00:00,  3.32s/it, loss=1.11e+3]\n"
     ]
    },
    {
     "name": "stdout",
     "output_type": "stream",
     "text": [
      "Epoch 74/100 — Avg Loss: 1025.8475\n"
     ]
    },
    {
     "name": "stderr",
     "output_type": "stream",
     "text": [
      "Epoch [75/100]: 100%|██████████| 74/74 [04:11<00:00,  3.40s/it, loss=1.08e+3]\n"
     ]
    },
    {
     "name": "stdout",
     "output_type": "stream",
     "text": [
      "Epoch 75/100 — Avg Loss: 1032.7417\n"
     ]
    },
    {
     "name": "stderr",
     "output_type": "stream",
     "text": [
      "Epoch [76/100]: 100%|██████████| 74/74 [04:05<00:00,  3.32s/it, loss=1.2e+3] \n"
     ]
    },
    {
     "name": "stdout",
     "output_type": "stream",
     "text": [
      "Epoch 76/100 — Avg Loss: 1025.2210\n",
      "Checkpoint saved at ipl_model_epoch_75_with_asymmetric_loss.pth\n"
     ]
    },
    {
     "name": "stderr",
     "output_type": "stream",
     "text": [
      "Epoch [77/100]: 100%|██████████| 74/74 [04:08<00:00,  3.35s/it, loss=946]    \n"
     ]
    },
    {
     "name": "stdout",
     "output_type": "stream",
     "text": [
      "Epoch 77/100 — Avg Loss: 1025.4439\n"
     ]
    },
    {
     "name": "stderr",
     "output_type": "stream",
     "text": [
      "Epoch [78/100]: 100%|██████████| 74/74 [04:10<00:00,  3.38s/it, loss=913]    \n"
     ]
    },
    {
     "name": "stdout",
     "output_type": "stream",
     "text": [
      "Epoch 78/100 — Avg Loss: 1035.5916\n"
     ]
    },
    {
     "name": "stderr",
     "output_type": "stream",
     "text": [
      "Epoch [79/100]: 100%|██████████| 74/74 [04:02<00:00,  3.27s/it, loss=976]    \n"
     ]
    },
    {
     "name": "stdout",
     "output_type": "stream",
     "text": [
      "Epoch 79/100 — Avg Loss: 1029.6349\n"
     ]
    },
    {
     "name": "stderr",
     "output_type": "stream",
     "text": [
      "Epoch [80/100]: 100%|██████████| 74/74 [04:02<00:00,  3.27s/it, loss=1.03e+3]\n"
     ]
    },
    {
     "name": "stdout",
     "output_type": "stream",
     "text": [
      "Epoch 80/100 — Avg Loss: 1018.9460\n"
     ]
    },
    {
     "name": "stderr",
     "output_type": "stream",
     "text": [
      "Epoch [81/100]: 100%|██████████| 74/74 [03:56<00:00,  3.20s/it, loss=965]    \n"
     ]
    },
    {
     "name": "stdout",
     "output_type": "stream",
     "text": [
      "Epoch 81/100 — Avg Loss: 1030.0822\n"
     ]
    },
    {
     "name": "stderr",
     "output_type": "stream",
     "text": [
      "Epoch [82/100]: 100%|██████████| 74/74 [04:11<00:00,  3.40s/it, loss=893]    \n"
     ]
    },
    {
     "name": "stdout",
     "output_type": "stream",
     "text": [
      "Epoch 82/100 — Avg Loss: 1018.1144\n"
     ]
    },
    {
     "name": "stderr",
     "output_type": "stream",
     "text": [
      "Epoch [83/100]: 100%|██████████| 74/74 [04:04<00:00,  3.31s/it, loss=1.01e+3]\n"
     ]
    },
    {
     "name": "stdout",
     "output_type": "stream",
     "text": [
      "Epoch 83/100 — Avg Loss: 1025.2841\n"
     ]
    },
    {
     "name": "stderr",
     "output_type": "stream",
     "text": [
      "Epoch [84/100]: 100%|██████████| 74/74 [04:07<00:00,  3.34s/it, loss=958]    \n"
     ]
    },
    {
     "name": "stdout",
     "output_type": "stream",
     "text": [
      "Epoch 84/100 — Avg Loss: 1028.8838\n"
     ]
    },
    {
     "name": "stderr",
     "output_type": "stream",
     "text": [
      "Epoch [85/100]: 100%|██████████| 74/74 [04:12<00:00,  3.42s/it, loss=1.07e+3]\n"
     ]
    },
    {
     "name": "stdout",
     "output_type": "stream",
     "text": [
      "Epoch 85/100 — Avg Loss: 1022.4596\n"
     ]
    },
    {
     "name": "stderr",
     "output_type": "stream",
     "text": [
      "Epoch [86/100]: 100%|██████████| 74/74 [04:11<00:00,  3.40s/it, loss=1.15e+3]\n"
     ]
    },
    {
     "name": "stdout",
     "output_type": "stream",
     "text": [
      "Epoch 86/100 — Avg Loss: 1020.2651\n"
     ]
    },
    {
     "name": "stderr",
     "output_type": "stream",
     "text": [
      "Epoch [87/100]: 100%|██████████| 74/74 [04:14<00:00,  3.44s/it, loss=1.2e+3] \n"
     ]
    },
    {
     "name": "stdout",
     "output_type": "stream",
     "text": [
      "Epoch 87/100 — Avg Loss: 1024.3018\n"
     ]
    },
    {
     "name": "stderr",
     "output_type": "stream",
     "text": [
      "Epoch [88/100]: 100%|██████████| 74/74 [04:22<00:00,  3.55s/it, loss=1.38e+3]\n"
     ]
    },
    {
     "name": "stdout",
     "output_type": "stream",
     "text": [
      "Epoch 88/100 — Avg Loss: 1024.4449\n"
     ]
    },
    {
     "name": "stderr",
     "output_type": "stream",
     "text": [
      "Epoch [89/100]: 100%|██████████| 74/74 [04:22<00:00,  3.54s/it, loss=1.02e+3]\n"
     ]
    },
    {
     "name": "stdout",
     "output_type": "stream",
     "text": [
      "Epoch 89/100 — Avg Loss: 1014.0633\n"
     ]
    },
    {
     "name": "stderr",
     "output_type": "stream",
     "text": [
      "Epoch [90/100]: 100%|██████████| 74/74 [04:24<00:00,  3.57s/it, loss=1.28e+3]\n"
     ]
    },
    {
     "name": "stdout",
     "output_type": "stream",
     "text": [
      "Epoch 90/100 — Avg Loss: 1017.1259\n"
     ]
    },
    {
     "name": "stderr",
     "output_type": "stream",
     "text": [
      "Epoch [91/100]: 100%|██████████| 74/74 [04:26<00:00,  3.60s/it, loss=1.06e+3]\n"
     ]
    },
    {
     "name": "stdout",
     "output_type": "stream",
     "text": [
      "Epoch 91/100 — Avg Loss: 1018.9776\n"
     ]
    },
    {
     "name": "stderr",
     "output_type": "stream",
     "text": [
      "Epoch [92/100]: 100%|██████████| 74/74 [04:19<00:00,  3.51s/it, loss=1.07e+3]\n"
     ]
    },
    {
     "name": "stdout",
     "output_type": "stream",
     "text": [
      "Epoch 92/100 — Avg Loss: 1013.1339\n"
     ]
    },
    {
     "name": "stderr",
     "output_type": "stream",
     "text": [
      "Epoch [93/100]: 100%|██████████| 74/74 [04:34<00:00,  3.71s/it, loss=1.02e+3]\n"
     ]
    },
    {
     "name": "stdout",
     "output_type": "stream",
     "text": [
      "Epoch 93/100 — Avg Loss: 1017.2120\n"
     ]
    },
    {
     "name": "stderr",
     "output_type": "stream",
     "text": [
      "Epoch [94/100]: 100%|██████████| 74/74 [04:41<00:00,  3.80s/it, loss=1.06e+3]\n"
     ]
    },
    {
     "name": "stdout",
     "output_type": "stream",
     "text": [
      "Epoch 94/100 — Avg Loss: 1007.9316\n"
     ]
    },
    {
     "name": "stderr",
     "output_type": "stream",
     "text": [
      "Epoch [95/100]: 100%|██████████| 74/74 [04:37<00:00,  3.76s/it, loss=939]    \n"
     ]
    },
    {
     "name": "stdout",
     "output_type": "stream",
     "text": [
      "Epoch 95/100 — Avg Loss: 1021.1242\n"
     ]
    },
    {
     "name": "stderr",
     "output_type": "stream",
     "text": [
      "Epoch [96/100]:  68%|██████▊   | 50/74 [03:23<01:37,  4.07s/it, loss=1.02e+3]\n"
     ]
    },
    {
     "ename": "KeyboardInterrupt",
     "evalue": "",
     "output_type": "error",
     "traceback": [
      "\u001b[1;31m---------------------------------------------------------------------------\u001b[0m",
      "\u001b[1;31mKeyboardInterrupt\u001b[0m                         Traceback (most recent call last)",
      "Cell \u001b[1;32mIn[64], line 1\u001b[0m\n\u001b[1;32m----> 1\u001b[0m lossi \u001b[38;5;241m=\u001b[39m \u001b[43mtrain\u001b[49m\u001b[43m(\u001b[49m\u001b[43mmodel\u001b[49m\u001b[43m,\u001b[49m\u001b[43m \u001b[49m\u001b[43mdataloader\u001b[49m\u001b[43m)\u001b[49m\n",
      "Cell \u001b[1;32mIn[61], line 42\u001b[0m, in \u001b[0;36mtrain\u001b[1;34m(model, dataloader, start_epoch, decay_rate, upper_threshold, min_threshold)\u001b[0m\n\u001b[0;32m     40\u001b[0m loop \u001b[38;5;241m=\u001b[39m tqdm(dataloader, leave\u001b[38;5;241m=\u001b[39m\u001b[38;5;28;01mTrue\u001b[39;00m)\n\u001b[0;32m     41\u001b[0m loop\u001b[38;5;241m.\u001b[39mset_description(\u001b[38;5;124mf\u001b[39m\u001b[38;5;124m\"\u001b[39m\u001b[38;5;124mEpoch [\u001b[39m\u001b[38;5;132;01m{\u001b[39;00mepoch\u001b[38;5;241m+\u001b[39m\u001b[38;5;241m1\u001b[39m\u001b[38;5;132;01m}\u001b[39;00m\u001b[38;5;124m/\u001b[39m\u001b[38;5;132;01m{\u001b[39;00mconfig\u001b[38;5;241m.\u001b[39mNUM_EPOCHS\u001b[38;5;132;01m}\u001b[39;00m\u001b[38;5;124m]\u001b[39m\u001b[38;5;124m\"\u001b[39m)\n\u001b[1;32m---> 42\u001b[0m \u001b[43m\u001b[49m\u001b[38;5;28;43;01mfor\u001b[39;49;00m\u001b[43m \u001b[49m\u001b[43mbatch\u001b[49m\u001b[43m \u001b[49m\u001b[38;5;129;43;01min\u001b[39;49;00m\u001b[43m \u001b[49m\u001b[43mloop\u001b[49m\u001b[43m:\u001b[49m\n\u001b[0;32m     43\u001b[0m \u001b[43m    \u001b[49m\u001b[38;5;66;43;03m# Move tensors to device\u001b[39;49;00m\n\u001b[0;32m     44\u001b[0m \u001b[43m    \u001b[49m\u001b[38;5;28;43;01mfor\u001b[39;49;00m\u001b[43m \u001b[49m\u001b[43mk\u001b[49m\u001b[43m,\u001b[49m\u001b[43m \u001b[49m\u001b[43mv\u001b[49m\u001b[43m \u001b[49m\u001b[38;5;129;43;01min\u001b[39;49;00m\u001b[43m \u001b[49m\u001b[43mbatch\u001b[49m\u001b[38;5;241;43m.\u001b[39;49m\u001b[43mitems\u001b[49m\u001b[43m(\u001b[49m\u001b[43m)\u001b[49m\u001b[43m:\u001b[49m\n\u001b[0;32m     45\u001b[0m \u001b[43m        \u001b[49m\u001b[38;5;28;43;01mif\u001b[39;49;00m\u001b[43m \u001b[49m\u001b[43mtorch\u001b[49m\u001b[38;5;241;43m.\u001b[39;49m\u001b[43mis_tensor\u001b[49m\u001b[43m(\u001b[49m\u001b[43mv\u001b[49m\u001b[43m)\u001b[49m\u001b[43m:\u001b[49m\n",
      "File \u001b[1;32m~\\AppData\\Roaming\\Python\\Python312\\site-packages\\tqdm\\std.py:1181\u001b[0m, in \u001b[0;36mtqdm.__iter__\u001b[1;34m(self)\u001b[0m\n\u001b[0;32m   1178\u001b[0m time \u001b[38;5;241m=\u001b[39m \u001b[38;5;28mself\u001b[39m\u001b[38;5;241m.\u001b[39m_time\n\u001b[0;32m   1180\u001b[0m \u001b[38;5;28;01mtry\u001b[39;00m:\n\u001b[1;32m-> 1181\u001b[0m \u001b[43m    \u001b[49m\u001b[38;5;28;43;01mfor\u001b[39;49;00m\u001b[43m \u001b[49m\u001b[43mobj\u001b[49m\u001b[43m \u001b[49m\u001b[38;5;129;43;01min\u001b[39;49;00m\u001b[43m \u001b[49m\u001b[43miterable\u001b[49m\u001b[43m:\u001b[49m\n\u001b[0;32m   1182\u001b[0m \u001b[43m        \u001b[49m\u001b[38;5;28;43;01myield\u001b[39;49;00m\u001b[43m \u001b[49m\u001b[43mobj\u001b[49m\n\u001b[0;32m   1183\u001b[0m \u001b[43m        \u001b[49m\u001b[38;5;66;43;03m# Update and possibly print the progressbar.\u001b[39;49;00m\n\u001b[0;32m   1184\u001b[0m \u001b[43m        \u001b[49m\u001b[38;5;66;43;03m# Note: does not call self.update(1) for speed optimisation.\u001b[39;49;00m\n",
      "File \u001b[1;32m~\\AppData\\Roaming\\Python\\Python312\\site-packages\\torch\\utils\\data\\dataloader.py:708\u001b[0m, in \u001b[0;36m_BaseDataLoaderIter.__next__\u001b[1;34m(self)\u001b[0m\n\u001b[0;32m    705\u001b[0m \u001b[38;5;28;01mif\u001b[39;00m \u001b[38;5;28mself\u001b[39m\u001b[38;5;241m.\u001b[39m_sampler_iter \u001b[38;5;129;01mis\u001b[39;00m \u001b[38;5;28;01mNone\u001b[39;00m:\n\u001b[0;32m    706\u001b[0m     \u001b[38;5;66;03m# TODO(https://github.com/pytorch/pytorch/issues/76750)\u001b[39;00m\n\u001b[0;32m    707\u001b[0m     \u001b[38;5;28mself\u001b[39m\u001b[38;5;241m.\u001b[39m_reset()  \u001b[38;5;66;03m# type: ignore[call-arg]\u001b[39;00m\n\u001b[1;32m--> 708\u001b[0m data \u001b[38;5;241m=\u001b[39m \u001b[38;5;28;43mself\u001b[39;49m\u001b[38;5;241;43m.\u001b[39;49m\u001b[43m_next_data\u001b[49m\u001b[43m(\u001b[49m\u001b[43m)\u001b[49m\n\u001b[0;32m    709\u001b[0m \u001b[38;5;28mself\u001b[39m\u001b[38;5;241m.\u001b[39m_num_yielded \u001b[38;5;241m+\u001b[39m\u001b[38;5;241m=\u001b[39m \u001b[38;5;241m1\u001b[39m\n\u001b[0;32m    710\u001b[0m \u001b[38;5;28;01mif\u001b[39;00m (\n\u001b[0;32m    711\u001b[0m     \u001b[38;5;28mself\u001b[39m\u001b[38;5;241m.\u001b[39m_dataset_kind \u001b[38;5;241m==\u001b[39m _DatasetKind\u001b[38;5;241m.\u001b[39mIterable\n\u001b[0;32m    712\u001b[0m     \u001b[38;5;129;01mand\u001b[39;00m \u001b[38;5;28mself\u001b[39m\u001b[38;5;241m.\u001b[39m_IterableDataset_len_called \u001b[38;5;129;01mis\u001b[39;00m \u001b[38;5;129;01mnot\u001b[39;00m \u001b[38;5;28;01mNone\u001b[39;00m\n\u001b[0;32m    713\u001b[0m     \u001b[38;5;129;01mand\u001b[39;00m \u001b[38;5;28mself\u001b[39m\u001b[38;5;241m.\u001b[39m_num_yielded \u001b[38;5;241m>\u001b[39m \u001b[38;5;28mself\u001b[39m\u001b[38;5;241m.\u001b[39m_IterableDataset_len_called\n\u001b[0;32m    714\u001b[0m ):\n",
      "File \u001b[1;32m~\\AppData\\Roaming\\Python\\Python312\\site-packages\\torch\\utils\\data\\dataloader.py:764\u001b[0m, in \u001b[0;36m_SingleProcessDataLoaderIter._next_data\u001b[1;34m(self)\u001b[0m\n\u001b[0;32m    762\u001b[0m \u001b[38;5;28;01mdef\u001b[39;00m \u001b[38;5;21m_next_data\u001b[39m(\u001b[38;5;28mself\u001b[39m):\n\u001b[0;32m    763\u001b[0m     index \u001b[38;5;241m=\u001b[39m \u001b[38;5;28mself\u001b[39m\u001b[38;5;241m.\u001b[39m_next_index()  \u001b[38;5;66;03m# may raise StopIteration\u001b[39;00m\n\u001b[1;32m--> 764\u001b[0m     data \u001b[38;5;241m=\u001b[39m \u001b[38;5;28;43mself\u001b[39;49m\u001b[38;5;241;43m.\u001b[39;49m\u001b[43m_dataset_fetcher\u001b[49m\u001b[38;5;241;43m.\u001b[39;49m\u001b[43mfetch\u001b[49m\u001b[43m(\u001b[49m\u001b[43mindex\u001b[49m\u001b[43m)\u001b[49m  \u001b[38;5;66;03m# may raise StopIteration\u001b[39;00m\n\u001b[0;32m    765\u001b[0m     \u001b[38;5;28;01mif\u001b[39;00m \u001b[38;5;28mself\u001b[39m\u001b[38;5;241m.\u001b[39m_pin_memory:\n\u001b[0;32m    766\u001b[0m         data \u001b[38;5;241m=\u001b[39m _utils\u001b[38;5;241m.\u001b[39mpin_memory\u001b[38;5;241m.\u001b[39mpin_memory(data, \u001b[38;5;28mself\u001b[39m\u001b[38;5;241m.\u001b[39m_pin_memory_device)\n",
      "File \u001b[1;32m~\\AppData\\Roaming\\Python\\Python312\\site-packages\\torch\\utils\\data\\_utils\\fetch.py:52\u001b[0m, in \u001b[0;36m_MapDatasetFetcher.fetch\u001b[1;34m(self, possibly_batched_index)\u001b[0m\n\u001b[0;32m     50\u001b[0m         data \u001b[38;5;241m=\u001b[39m \u001b[38;5;28mself\u001b[39m\u001b[38;5;241m.\u001b[39mdataset\u001b[38;5;241m.\u001b[39m__getitems__(possibly_batched_index)\n\u001b[0;32m     51\u001b[0m     \u001b[38;5;28;01melse\u001b[39;00m:\n\u001b[1;32m---> 52\u001b[0m         data \u001b[38;5;241m=\u001b[39m [\u001b[38;5;28;43mself\u001b[39;49m\u001b[38;5;241;43m.\u001b[39;49m\u001b[43mdataset\u001b[49m\u001b[43m[\u001b[49m\u001b[43midx\u001b[49m\u001b[43m]\u001b[49m \u001b[38;5;28;01mfor\u001b[39;00m idx \u001b[38;5;129;01min\u001b[39;00m possibly_batched_index]\n\u001b[0;32m     53\u001b[0m \u001b[38;5;28;01melse\u001b[39;00m:\n\u001b[0;32m     54\u001b[0m     data \u001b[38;5;241m=\u001b[39m \u001b[38;5;28mself\u001b[39m\u001b[38;5;241m.\u001b[39mdataset[possibly_batched_index]\n",
      "Cell \u001b[1;32mIn[44], line 130\u001b[0m, in \u001b[0;36mPlayerMatchDataset.__getitem__\u001b[1;34m(self, idx)\u001b[0m\n\u001b[0;32m    128\u001b[0m \u001b[38;5;66;03m# Load match players file (expects a file named \"{match_id}.csv\").\u001b[39;00m\n\u001b[0;32m    129\u001b[0m match_players_file \u001b[38;5;241m=\u001b[39m os\u001b[38;5;241m.\u001b[39mpath\u001b[38;5;241m.\u001b[39mjoin(\u001b[38;5;28mself\u001b[39m\u001b[38;5;241m.\u001b[39mmatch_players_dir, \u001b[38;5;124mf\u001b[39m\u001b[38;5;124m\"\u001b[39m\u001b[38;5;132;01m{\u001b[39;00m\u001b[38;5;28mint\u001b[39m(match_id)\u001b[38;5;132;01m}\u001b[39;00m\u001b[38;5;124m.csv\u001b[39m\u001b[38;5;124m\"\u001b[39m)\n\u001b[1;32m--> 130\u001b[0m match_players_df \u001b[38;5;241m=\u001b[39m \u001b[43mpd\u001b[49m\u001b[38;5;241;43m.\u001b[39;49m\u001b[43mread_csv\u001b[49m\u001b[43m(\u001b[49m\u001b[43mmatch_players_file\u001b[49m\u001b[43m)\u001b[49m\n\u001b[0;32m    132\u001b[0m \u001b[38;5;66;03m# Determine the team of the sample's player in this match.\u001b[39;00m\n\u001b[0;32m    133\u001b[0m player_team_series \u001b[38;5;241m=\u001b[39m match_players_df[\n\u001b[0;32m    134\u001b[0m     match_players_df[\u001b[38;5;124m'\u001b[39m\u001b[38;5;124mplayer_id\u001b[39m\u001b[38;5;124m'\u001b[39m] \u001b[38;5;241m==\u001b[39m player_id][\u001b[38;5;124m'\u001b[39m\u001b[38;5;124mTeam\u001b[39m\u001b[38;5;124m'\u001b[39m]\n",
      "File \u001b[1;32m~\\AppData\\Roaming\\Python\\Python312\\site-packages\\pandas\\io\\parsers\\readers.py:1026\u001b[0m, in \u001b[0;36mread_csv\u001b[1;34m(filepath_or_buffer, sep, delimiter, header, names, index_col, usecols, dtype, engine, converters, true_values, false_values, skipinitialspace, skiprows, skipfooter, nrows, na_values, keep_default_na, na_filter, verbose, skip_blank_lines, parse_dates, infer_datetime_format, keep_date_col, date_parser, date_format, dayfirst, cache_dates, iterator, chunksize, compression, thousands, decimal, lineterminator, quotechar, quoting, doublequote, escapechar, comment, encoding, encoding_errors, dialect, on_bad_lines, delim_whitespace, low_memory, memory_map, float_precision, storage_options, dtype_backend)\u001b[0m\n\u001b[0;32m   1013\u001b[0m kwds_defaults \u001b[38;5;241m=\u001b[39m _refine_defaults_read(\n\u001b[0;32m   1014\u001b[0m     dialect,\n\u001b[0;32m   1015\u001b[0m     delimiter,\n\u001b[1;32m   (...)\u001b[0m\n\u001b[0;32m   1022\u001b[0m     dtype_backend\u001b[38;5;241m=\u001b[39mdtype_backend,\n\u001b[0;32m   1023\u001b[0m )\n\u001b[0;32m   1024\u001b[0m kwds\u001b[38;5;241m.\u001b[39mupdate(kwds_defaults)\n\u001b[1;32m-> 1026\u001b[0m \u001b[38;5;28;01mreturn\u001b[39;00m \u001b[43m_read\u001b[49m\u001b[43m(\u001b[49m\u001b[43mfilepath_or_buffer\u001b[49m\u001b[43m,\u001b[49m\u001b[43m \u001b[49m\u001b[43mkwds\u001b[49m\u001b[43m)\u001b[49m\n",
      "File \u001b[1;32m~\\AppData\\Roaming\\Python\\Python312\\site-packages\\pandas\\io\\parsers\\readers.py:620\u001b[0m, in \u001b[0;36m_read\u001b[1;34m(filepath_or_buffer, kwds)\u001b[0m\n\u001b[0;32m    617\u001b[0m _validate_names(kwds\u001b[38;5;241m.\u001b[39mget(\u001b[38;5;124m\"\u001b[39m\u001b[38;5;124mnames\u001b[39m\u001b[38;5;124m\"\u001b[39m, \u001b[38;5;28;01mNone\u001b[39;00m))\n\u001b[0;32m    619\u001b[0m \u001b[38;5;66;03m# Create the parser.\u001b[39;00m\n\u001b[1;32m--> 620\u001b[0m parser \u001b[38;5;241m=\u001b[39m \u001b[43mTextFileReader\u001b[49m\u001b[43m(\u001b[49m\u001b[43mfilepath_or_buffer\u001b[49m\u001b[43m,\u001b[49m\u001b[43m \u001b[49m\u001b[38;5;241;43m*\u001b[39;49m\u001b[38;5;241;43m*\u001b[39;49m\u001b[43mkwds\u001b[49m\u001b[43m)\u001b[49m\n\u001b[0;32m    622\u001b[0m \u001b[38;5;28;01mif\u001b[39;00m chunksize \u001b[38;5;129;01mor\u001b[39;00m iterator:\n\u001b[0;32m    623\u001b[0m     \u001b[38;5;28;01mreturn\u001b[39;00m parser\n",
      "File \u001b[1;32m~\\AppData\\Roaming\\Python\\Python312\\site-packages\\pandas\\io\\parsers\\readers.py:1620\u001b[0m, in \u001b[0;36mTextFileReader.__init__\u001b[1;34m(self, f, engine, **kwds)\u001b[0m\n\u001b[0;32m   1617\u001b[0m     \u001b[38;5;28mself\u001b[39m\u001b[38;5;241m.\u001b[39moptions[\u001b[38;5;124m\"\u001b[39m\u001b[38;5;124mhas_index_names\u001b[39m\u001b[38;5;124m\"\u001b[39m] \u001b[38;5;241m=\u001b[39m kwds[\u001b[38;5;124m\"\u001b[39m\u001b[38;5;124mhas_index_names\u001b[39m\u001b[38;5;124m\"\u001b[39m]\n\u001b[0;32m   1619\u001b[0m \u001b[38;5;28mself\u001b[39m\u001b[38;5;241m.\u001b[39mhandles: IOHandles \u001b[38;5;241m|\u001b[39m \u001b[38;5;28;01mNone\u001b[39;00m \u001b[38;5;241m=\u001b[39m \u001b[38;5;28;01mNone\u001b[39;00m\n\u001b[1;32m-> 1620\u001b[0m \u001b[38;5;28mself\u001b[39m\u001b[38;5;241m.\u001b[39m_engine \u001b[38;5;241m=\u001b[39m \u001b[38;5;28;43mself\u001b[39;49m\u001b[38;5;241;43m.\u001b[39;49m\u001b[43m_make_engine\u001b[49m\u001b[43m(\u001b[49m\u001b[43mf\u001b[49m\u001b[43m,\u001b[49m\u001b[43m \u001b[49m\u001b[38;5;28;43mself\u001b[39;49m\u001b[38;5;241;43m.\u001b[39;49m\u001b[43mengine\u001b[49m\u001b[43m)\u001b[49m\n",
      "File \u001b[1;32m~\\AppData\\Roaming\\Python\\Python312\\site-packages\\pandas\\io\\parsers\\readers.py:1880\u001b[0m, in \u001b[0;36mTextFileReader._make_engine\u001b[1;34m(self, f, engine)\u001b[0m\n\u001b[0;32m   1878\u001b[0m     \u001b[38;5;28;01mif\u001b[39;00m \u001b[38;5;124m\"\u001b[39m\u001b[38;5;124mb\u001b[39m\u001b[38;5;124m\"\u001b[39m \u001b[38;5;129;01mnot\u001b[39;00m \u001b[38;5;129;01min\u001b[39;00m mode:\n\u001b[0;32m   1879\u001b[0m         mode \u001b[38;5;241m+\u001b[39m\u001b[38;5;241m=\u001b[39m \u001b[38;5;124m\"\u001b[39m\u001b[38;5;124mb\u001b[39m\u001b[38;5;124m\"\u001b[39m\n\u001b[1;32m-> 1880\u001b[0m \u001b[38;5;28mself\u001b[39m\u001b[38;5;241m.\u001b[39mhandles \u001b[38;5;241m=\u001b[39m \u001b[43mget_handle\u001b[49m\u001b[43m(\u001b[49m\n\u001b[0;32m   1881\u001b[0m \u001b[43m    \u001b[49m\u001b[43mf\u001b[49m\u001b[43m,\u001b[49m\n\u001b[0;32m   1882\u001b[0m \u001b[43m    \u001b[49m\u001b[43mmode\u001b[49m\u001b[43m,\u001b[49m\n\u001b[0;32m   1883\u001b[0m \u001b[43m    \u001b[49m\u001b[43mencoding\u001b[49m\u001b[38;5;241;43m=\u001b[39;49m\u001b[38;5;28;43mself\u001b[39;49m\u001b[38;5;241;43m.\u001b[39;49m\u001b[43moptions\u001b[49m\u001b[38;5;241;43m.\u001b[39;49m\u001b[43mget\u001b[49m\u001b[43m(\u001b[49m\u001b[38;5;124;43m\"\u001b[39;49m\u001b[38;5;124;43mencoding\u001b[39;49m\u001b[38;5;124;43m\"\u001b[39;49m\u001b[43m,\u001b[49m\u001b[43m \u001b[49m\u001b[38;5;28;43;01mNone\u001b[39;49;00m\u001b[43m)\u001b[49m\u001b[43m,\u001b[49m\n\u001b[0;32m   1884\u001b[0m \u001b[43m    \u001b[49m\u001b[43mcompression\u001b[49m\u001b[38;5;241;43m=\u001b[39;49m\u001b[38;5;28;43mself\u001b[39;49m\u001b[38;5;241;43m.\u001b[39;49m\u001b[43moptions\u001b[49m\u001b[38;5;241;43m.\u001b[39;49m\u001b[43mget\u001b[49m\u001b[43m(\u001b[49m\u001b[38;5;124;43m\"\u001b[39;49m\u001b[38;5;124;43mcompression\u001b[39;49m\u001b[38;5;124;43m\"\u001b[39;49m\u001b[43m,\u001b[49m\u001b[43m \u001b[49m\u001b[38;5;28;43;01mNone\u001b[39;49;00m\u001b[43m)\u001b[49m\u001b[43m,\u001b[49m\n\u001b[0;32m   1885\u001b[0m \u001b[43m    \u001b[49m\u001b[43mmemory_map\u001b[49m\u001b[38;5;241;43m=\u001b[39;49m\u001b[38;5;28;43mself\u001b[39;49m\u001b[38;5;241;43m.\u001b[39;49m\u001b[43moptions\u001b[49m\u001b[38;5;241;43m.\u001b[39;49m\u001b[43mget\u001b[49m\u001b[43m(\u001b[49m\u001b[38;5;124;43m\"\u001b[39;49m\u001b[38;5;124;43mmemory_map\u001b[39;49m\u001b[38;5;124;43m\"\u001b[39;49m\u001b[43m,\u001b[49m\u001b[43m \u001b[49m\u001b[38;5;28;43;01mFalse\u001b[39;49;00m\u001b[43m)\u001b[49m\u001b[43m,\u001b[49m\n\u001b[0;32m   1886\u001b[0m \u001b[43m    \u001b[49m\u001b[43mis_text\u001b[49m\u001b[38;5;241;43m=\u001b[39;49m\u001b[43mis_text\u001b[49m\u001b[43m,\u001b[49m\n\u001b[0;32m   1887\u001b[0m \u001b[43m    \u001b[49m\u001b[43merrors\u001b[49m\u001b[38;5;241;43m=\u001b[39;49m\u001b[38;5;28;43mself\u001b[39;49m\u001b[38;5;241;43m.\u001b[39;49m\u001b[43moptions\u001b[49m\u001b[38;5;241;43m.\u001b[39;49m\u001b[43mget\u001b[49m\u001b[43m(\u001b[49m\u001b[38;5;124;43m\"\u001b[39;49m\u001b[38;5;124;43mencoding_errors\u001b[39;49m\u001b[38;5;124;43m\"\u001b[39;49m\u001b[43m,\u001b[49m\u001b[43m \u001b[49m\u001b[38;5;124;43m\"\u001b[39;49m\u001b[38;5;124;43mstrict\u001b[39;49m\u001b[38;5;124;43m\"\u001b[39;49m\u001b[43m)\u001b[49m\u001b[43m,\u001b[49m\n\u001b[0;32m   1888\u001b[0m \u001b[43m    \u001b[49m\u001b[43mstorage_options\u001b[49m\u001b[38;5;241;43m=\u001b[39;49m\u001b[38;5;28;43mself\u001b[39;49m\u001b[38;5;241;43m.\u001b[39;49m\u001b[43moptions\u001b[49m\u001b[38;5;241;43m.\u001b[39;49m\u001b[43mget\u001b[49m\u001b[43m(\u001b[49m\u001b[38;5;124;43m\"\u001b[39;49m\u001b[38;5;124;43mstorage_options\u001b[39;49m\u001b[38;5;124;43m\"\u001b[39;49m\u001b[43m,\u001b[49m\u001b[43m \u001b[49m\u001b[38;5;28;43;01mNone\u001b[39;49;00m\u001b[43m)\u001b[49m\u001b[43m,\u001b[49m\n\u001b[0;32m   1889\u001b[0m \u001b[43m\u001b[49m\u001b[43m)\u001b[49m\n\u001b[0;32m   1890\u001b[0m \u001b[38;5;28;01massert\u001b[39;00m \u001b[38;5;28mself\u001b[39m\u001b[38;5;241m.\u001b[39mhandles \u001b[38;5;129;01mis\u001b[39;00m \u001b[38;5;129;01mnot\u001b[39;00m \u001b[38;5;28;01mNone\u001b[39;00m\n\u001b[0;32m   1891\u001b[0m f \u001b[38;5;241m=\u001b[39m \u001b[38;5;28mself\u001b[39m\u001b[38;5;241m.\u001b[39mhandles\u001b[38;5;241m.\u001b[39mhandle\n",
      "File \u001b[1;32m~\\AppData\\Roaming\\Python\\Python312\\site-packages\\pandas\\io\\common.py:873\u001b[0m, in \u001b[0;36mget_handle\u001b[1;34m(path_or_buf, mode, encoding, compression, memory_map, is_text, errors, storage_options)\u001b[0m\n\u001b[0;32m    868\u001b[0m \u001b[38;5;28;01melif\u001b[39;00m \u001b[38;5;28misinstance\u001b[39m(handle, \u001b[38;5;28mstr\u001b[39m):\n\u001b[0;32m    869\u001b[0m     \u001b[38;5;66;03m# Check whether the filename is to be opened in binary mode.\u001b[39;00m\n\u001b[0;32m    870\u001b[0m     \u001b[38;5;66;03m# Binary mode does not support 'encoding' and 'newline'.\u001b[39;00m\n\u001b[0;32m    871\u001b[0m     \u001b[38;5;28;01mif\u001b[39;00m ioargs\u001b[38;5;241m.\u001b[39mencoding \u001b[38;5;129;01mand\u001b[39;00m \u001b[38;5;124m\"\u001b[39m\u001b[38;5;124mb\u001b[39m\u001b[38;5;124m\"\u001b[39m \u001b[38;5;129;01mnot\u001b[39;00m \u001b[38;5;129;01min\u001b[39;00m ioargs\u001b[38;5;241m.\u001b[39mmode:\n\u001b[0;32m    872\u001b[0m         \u001b[38;5;66;03m# Encoding\u001b[39;00m\n\u001b[1;32m--> 873\u001b[0m         handle \u001b[38;5;241m=\u001b[39m \u001b[38;5;28;43mopen\u001b[39;49m\u001b[43m(\u001b[49m\n\u001b[0;32m    874\u001b[0m \u001b[43m            \u001b[49m\u001b[43mhandle\u001b[49m\u001b[43m,\u001b[49m\n\u001b[0;32m    875\u001b[0m \u001b[43m            \u001b[49m\u001b[43mioargs\u001b[49m\u001b[38;5;241;43m.\u001b[39;49m\u001b[43mmode\u001b[49m\u001b[43m,\u001b[49m\n\u001b[0;32m    876\u001b[0m \u001b[43m            \u001b[49m\u001b[43mencoding\u001b[49m\u001b[38;5;241;43m=\u001b[39;49m\u001b[43mioargs\u001b[49m\u001b[38;5;241;43m.\u001b[39;49m\u001b[43mencoding\u001b[49m\u001b[43m,\u001b[49m\n\u001b[0;32m    877\u001b[0m \u001b[43m            \u001b[49m\u001b[43merrors\u001b[49m\u001b[38;5;241;43m=\u001b[39;49m\u001b[43merrors\u001b[49m\u001b[43m,\u001b[49m\n\u001b[0;32m    878\u001b[0m \u001b[43m            \u001b[49m\u001b[43mnewline\u001b[49m\u001b[38;5;241;43m=\u001b[39;49m\u001b[38;5;124;43m\"\u001b[39;49m\u001b[38;5;124;43m\"\u001b[39;49m\u001b[43m,\u001b[49m\n\u001b[0;32m    879\u001b[0m \u001b[43m        \u001b[49m\u001b[43m)\u001b[49m\n\u001b[0;32m    880\u001b[0m     \u001b[38;5;28;01melse\u001b[39;00m:\n\u001b[0;32m    881\u001b[0m         \u001b[38;5;66;03m# Binary mode\u001b[39;00m\n\u001b[0;32m    882\u001b[0m         handle \u001b[38;5;241m=\u001b[39m \u001b[38;5;28mopen\u001b[39m(handle, ioargs\u001b[38;5;241m.\u001b[39mmode)\n",
      "File \u001b[1;32m<frozen codecs>:309\u001b[0m, in \u001b[0;36m__init__\u001b[1;34m(self, errors)\u001b[0m\n",
      "\u001b[1;31mKeyboardInterrupt\u001b[0m: "
     ]
    }
   ],
   "source": [
    "lossi = train(model, dataloader)\n"
   ]
  },
  {
   "cell_type": "code",
   "execution_count": null,
   "id": "4c654058",
   "metadata": {},
   "outputs": [
    {
     "ename": "NameError",
     "evalue": "name 'model' is not defined",
     "output_type": "error",
     "traceback": [
      "\u001b[1;31m---------------------------------------------------------------------------\u001b[0m",
      "\u001b[1;31mNameError\u001b[0m                                 Traceback (most recent call last)",
      "Cell \u001b[1;32mIn[1], line 1\u001b[0m\n\u001b[1;32m----> 1\u001b[0m total_params \u001b[38;5;241m=\u001b[39m \u001b[38;5;28msum\u001b[39m(p\u001b[38;5;241m.\u001b[39mnumel() \u001b[38;5;28;01mfor\u001b[39;00m p \u001b[38;5;129;01min\u001b[39;00m \u001b[43mmodel\u001b[49m\u001b[38;5;241m.\u001b[39mparameters() \u001b[38;5;28;01mif\u001b[39;00m p\u001b[38;5;241m.\u001b[39mrequires_grad)\n\u001b[0;32m      2\u001b[0m total_params\n",
      "\u001b[1;31mNameError\u001b[0m: name 'model' is not defined"
     ]
    }
   ],
   "source": []
  },
  {
   "cell_type": "code",
   "execution_count": null,
   "id": "05aab018",
   "metadata": {},
   "outputs": [],
   "source": [
    "\n",
    "checkpoint_path = f\"ipl_model_epoch_{config.NUM_EPOCHS}_with_current_loss.pth\"\n",
    "torch.save({\n",
    "'model_state_dict': model.state_dict(),\n",
    "'optimizer_state_dict': optimizer.state_dict(),\n",
    "}, checkpoint_path)\n",
    "print(f\"Checkpoint saved at {checkpoint_path}\")"
   ]
  },
  {
   "cell_type": "code",
   "execution_count": null,
   "id": "cc6e48f1",
   "metadata": {},
   "outputs": [],
   "source": [
    "\n",
    "# from tqdm import tqdm\n",
    "# from typing import List\n",
    "# import matplotlib.pyplot as plt\n",
    "# from IPython.display import clear_output\n",
    "\n",
    "\n",
    "# def train(model, dataloader, start_epoch=0,\n",
    "#           decay_rate : float = 0.05, # decides how fast the threshold converges..\n",
    "#     upper_threshold : float = 200,\n",
    "#     min_threshold : float = 50,\n",
    "#     ):\n",
    "#     model.to(config.DEVICE)\n",
    "#     optimizer = torch.optim.AdamW(model.parameters(), lr=config.LEARNING_RATE)\n",
    "#     epoch_losses = []\n",
    "#     losses = []\n",
    "#     pred_total_fantasy_list = []      # cumulative predicted total fantasy points\n",
    "#     target_total_fantasy_list = []    # cumulative target total fantasy points\n",
    "#     error_list = []                   # cumulative error values (pred - target)\n",
    "#     effective_threshold_list = []     # effective threshold replicated per match (for each batch)\n",
    "#     no_outliers_per_batch = []        # number of outlier matches per batch\n",
    "\n",
    "#     batch_counter = 0\n",
    "#     for epoch in range(start_epoch, config.NUM_EPOCHS):\n",
    "#         model.train()\n",
    "#         total_loss = 0.0\n",
    "#         effective_threshold = (upper_threshold - min_threshold) * math.exp(-decay_rate * epoch) + min_threshold\n",
    "\n",
    "#         # Wrap dataloader with tqdm for progress bar\n",
    "#         loop = tqdm(dataloader, leave=True)\n",
    "#         loop.set_description(f\"Epoch [{epoch+1}/{config.NUM_EPOCHS}]\")\n",
    "#         for batch in loop:\n",
    "#             # Move tensors to device\n",
    "#             for k, v in batch.items():\n",
    "#                 if torch.is_tensor(v):\n",
    "#                     batch[k] = v.to(config.DEVICE)\n",
    "\n",
    "#             # Unpack batch\n",
    "#             player_univ   = batch['univ_features']\n",
    "#             context_feats = batch['context_matches']\n",
    "#             team2_players = batch['team2_players']\n",
    "#             match_info    = batch['match_info']\n",
    "#             target_scores = batch['target_scores']\n",
    "            \n",
    "            \n",
    "#             optimizer.zero_grad()\n",
    "#             pred_fantasy = model(\n",
    "#                 player_univ,\n",
    "#                 context_feats,\n",
    "#                 team2_players,\n",
    "#                 match_info,\n",
    "#                 target_scores\n",
    "#             )\n",
    "#             pred_total_fantasy = pred_fantasy.sum(dim = -1).reshape(-1) #(B*T,)\n",
    "#             target_total_fantasy = target_scores.sum(dim =-1).reshape(-1) #(B*T,)\n",
    "#             error = pred_total_fantasy - target_total_fantasy  # tensor shape: (B*T,)\n",
    "#             abs_error_batch = (error.abs()) \n",
    "            \n",
    "        \n",
    "#             pred_total_fantasy_list.extend(pred_total_fantasy.to_list())\n",
    "#             target_total_fantasy_list.extend(target_total_fantasy.to_list())\n",
    "#             error_list.append(error.to_list())\n",
    "#             effective_threshold_list.extend([effective_threshold] * error.shape[0])\n",
    "            \n",
    "#             #count outliers: matches where abs(error) > effective_threshold.\n",
    "#             outlier_count = int(torch.sum((abs_error_batch > effective_threshold).to(torch.int)).item())\n",
    "#             no_outliers_per_batch.append(outlier_count)\n",
    "            \n",
    "#             #Compute loss\n",
    "#             loss = custom_loss(pred_fantasy, target_scores, epoch=epoch, \n",
    "#                                total_epoches=config.NUM_EPOCHS, min_threshold=min_threshold)\n",
    "#             loss.backward()\n",
    "#             optimizer.step()\n",
    "            \n",
    "#             loss_value = loss.item()\n",
    "#             losses.append(loss_value)\n",
    "#             total_loss += loss_value\n",
    "#             batch_counter += 1\n",
    "            \n",
    "#             loop.set_postfix(loss=loss_value)     \n",
    "#             # print(\"error_batch.shape: \")\n",
    "#             # print(error_batch.shape)\n",
    "              \n",
    "#         clear_output(wait = True)\n",
    "#         fig, (ax1,ax2,ax3) = plt.subplots(3,1,figsize=(10,12))\n",
    "        \n",
    "#         # Subplot 1: Cumulative predicted vs. target total fantasy points\n",
    "#         ax1.plot(pred_total_fantasy_list, label='Predicted Total FP', color='red')\n",
    "#         ax1.plot(target_total_fantasy_list, label='Target Total FP', color='blue')\n",
    "#         ax1.set_xlabel('Match Index (Cumulative)')\n",
    "#         ax1.set_ylabel('Fantasy Points')\n",
    "#         ax1.set_title('Predicted vs. Target Total Fantasy Points')\n",
    "#         ax1.grid(True)\n",
    "#         ax1.legend()\n",
    "        \n",
    "#         # Subplot 2: Cumulative error with effective threshold lines\n",
    "#         ax2.plot(error_list, label='Error (Pred - Target)', color='red')\n",
    "#         # Plot the effective threshold (and its negative) as horizontal lines\n",
    "#         ax2.plot(effective_threshold_list, label='Effective Threshold', color='green', linestyle='--')\n",
    "#         ax2.plot([-thr for thr in effective_threshold_list], label='-Effective Threshold', color='green', linestyle='--')\n",
    "#         ax2.set_xlabel('Match Index (Cumulative)')\n",
    "#         ax2.set_ylabel('Error')\n",
    "#         ax2.set_title('Batch-wise Errors with Effective Threshold')\n",
    "#         ax2.grid(True)\n",
    "#         ax2.legend()\n",
    "        \n",
    "#         # Subplot 3: Outliers per batch\n",
    "#         # Create an x-axis for batches (1-indexed)\n",
    "#         ax3.plot(range(1, len(no_outliers_per_batch)+1), no_outliers_per_batch, marker='o',\n",
    "#                     label='No. of Outliers per Batch', color='purple')\n",
    "#         ax3.set_xlabel('Batch Index')\n",
    "#         ax3.set_ylabel('Number of Outliers')\n",
    "#         ax3.set_title('Outliers per Batch')\n",
    "#         ax3.grid(True)\n",
    "#         ax3.legend()\n",
    "        \n",
    "#         plt.tight_layout()\n",
    "#         plt.show()\n",
    "        \n",
    "#         avg_loss = total_loss / len(dataloader)\n",
    "#         epoch_losses.append(avg_loss)  \n",
    "    \n",
    "#         print(f\"Epoch {epoch+1}/{config.NUM_EPOCHS} — Avg Loss: {avg_loss:.4f}\")\n",
    "#         if (epoch - start_epoch) % 50 == 0:\n",
    "#             checkpoint_path = f\"ipl_model_epoch_{epoch}_with_asymmetric_loss.pth\"\n",
    "#             torch.save({\n",
    "#                 'model_state_dict': model.state_dict(),\n",
    "#                 'optimizer_state_dict': optimizer.state_dict(),\n",
    "#             }, checkpoint_path)\n",
    "#             print(f\"Checkpoint saved at {checkpoint_path}\")\n",
    "#     return epoch_losses,losses\n"
   ]
  },
  {
   "cell_type": "code",
   "execution_count": null,
   "id": "7c0395ac",
   "metadata": {},
   "outputs": [],
   "source": []
  },
  {
   "cell_type": "code",
   "execution_count": null,
   "id": "94940dc3",
   "metadata": {},
   "outputs": [],
   "source": []
  },
  {
   "cell_type": "code",
   "execution_count": null,
   "id": "528e47da",
   "metadata": {},
   "outputs": [],
   "source": []
  },
  {
   "cell_type": "code",
   "execution_count": null,
   "id": "4f570b3d",
   "metadata": {},
   "outputs": [],
   "source": []
  },
  {
   "cell_type": "code",
   "execution_count": null,
   "id": "49098c8f",
   "metadata": {},
   "outputs": [],
   "source": []
  },
  {
   "cell_type": "code",
   "execution_count": null,
   "id": "5cc70e00",
   "metadata": {},
   "outputs": [],
   "source": []
  },
  {
   "cell_type": "code",
   "execution_count": null,
   "id": "2686a24c",
   "metadata": {},
   "outputs": [],
   "source": []
  },
  {
   "cell_type": "code",
   "execution_count": null,
   "id": "2ca3030c",
   "metadata": {},
   "outputs": [],
   "source": []
  },
  {
   "cell_type": "code",
   "execution_count": null,
   "id": "1dbe254d",
   "metadata": {},
   "outputs": [],
   "source": []
  },
  {
   "cell_type": "code",
   "execution_count": null,
   "id": "31e164af",
   "metadata": {},
   "outputs": [],
   "source": []
  },
  {
   "cell_type": "code",
   "execution_count": null,
   "id": "97a7c3cb",
   "metadata": {},
   "outputs": [],
   "source": []
  },
  {
   "cell_type": "code",
   "execution_count": null,
   "id": "0a4fbf45",
   "metadata": {},
   "outputs": [],
   "source": []
  }
 ],
 "metadata": {
  "kernelspec": {
   "display_name": "Python 3",
   "language": "python",
   "name": "python3"
  },
  "language_info": {
   "codemirror_mode": {
    "name": "ipython",
    "version": 3
   },
   "file_extension": ".py",
   "mimetype": "text/x-python",
   "name": "python",
   "nbconvert_exporter": "python",
   "pygments_lexer": "ipython3",
   "version": "3.12.6"
  }
 },
 "nbformat": 4,
 "nbformat_minor": 5
}
