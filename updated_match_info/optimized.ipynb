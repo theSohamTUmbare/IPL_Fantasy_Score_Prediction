{
 "cells": [
  {
   "cell_type": "code",
   "execution_count": 8,
   "metadata": {},
   "outputs": [
    {
     "name": "stdout",
     "output_type": "stream",
     "text": [
      "Unique venues to fetch: 151\n",
      "File 'unique_venues.csv' has been saved successfully!\n"
     ]
    }
   ],
   "source": [
    "import pandas as pd\n",
    "\n",
    "df = pd.read_csv(\"updated_matches_info1.csv\")  # Replace with your actual file name\n",
    "\n",
    "# Assuming df is your DataFrame\n",
    "missing_venues = df[df[['venue_lat', 'venue_long']].eq(0).all(axis=1)][['venue_name', 'city', 'venue_lat', 'venue_long']]\n",
    "\n",
    "# Remove duplicates\n",
    "unique_venues = missing_venues.drop_duplicates()\n",
    "\n",
    "unique_venues.to_csv(\"unique_venues.csv\", index=False)\n",
    "\n",
    "print(f\"Unique venues to fetch: {len(unique_venues)}\")\n",
    "print(\"File 'unique_venues.csv' has been saved successfully!\")"
   ]
  }
 ],
 "metadata": {
  "kernelspec": {
   "display_name": "base",
   "language": "python",
   "name": "python3"
  },
  "language_info": {
   "codemirror_mode": {
    "name": "ipython",
    "version": 3
   },
   "file_extension": ".py",
   "mimetype": "text/x-python",
   "name": "python",
   "nbconvert_exporter": "python",
   "pygments_lexer": "ipython3",
   "version": "3.9.18"
  }
 },
 "nbformat": 4,
 "nbformat_minor": 2
}
